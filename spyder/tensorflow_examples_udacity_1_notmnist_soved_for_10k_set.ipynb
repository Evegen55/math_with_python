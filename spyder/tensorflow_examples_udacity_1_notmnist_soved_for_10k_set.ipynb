{
 "cells": [
  {
   "cell_type": "code",
   "execution_count": 1,
   "metadata": {
    "collapsed": true
   },
   "outputs": [],
   "source": [
    "# These are all the modules we'll be using later. Make sure you can import them\n",
    "# before proceeding further.\n",
    "from __future__ import print_function\n",
    "import imageio\n",
    "import matplotlib.pyplot as plt\n",
    "import numpy as np\n",
    "import os\n",
    "import sys\n",
    "import tarfile\n",
    "from IPython.display import display, Image\n",
    "from sklearn.linear_model import LogisticRegression\n",
    "from six.moves.urllib.request import urlretrieve\n",
    "from six.moves import cPickle as pickle\n",
    "\n",
    "# Config the matplotlib backend as plotting inline in IPython\n",
    "%matplotlib inline"
   ]
  },
  {
   "cell_type": "code",
   "execution_count": 2,
   "metadata": {
    "collapsed": false
   },
   "outputs": [
    {
     "name": "stdout",
     "output_type": "stream",
     "text": [
      "Found and verified D:\\1_Workspaces\\UNDER_VCS\\github\\1_ML_NN\\python_with_math\\data\\notMNIST_large.tar.gz\n",
      "Found and verified D:\\1_Workspaces\\UNDER_VCS\\github\\1_ML_NN\\python_with_math\\data\\notMNIST_small.tar.gz\n"
     ]
    }
   ],
   "source": [
    "url = 'https://commondatastorage.googleapis.com/books1000/'\n",
    "last_percent_reported = None\n",
    "data_root = 'D:\\\\1_Workspaces\\\\UNDER_VCS\\\\github\\\\1_ML_NN\\\\python_with_math\\\\data' # Change me to store data elsewhere\n",
    "\n",
    "def download_progress_hook(count, blockSize, totalSize):\n",
    "  \"\"\"A hook to report the progress of a download. This is mostly intended for users with\n",
    "  slow internet connections. Reports every 5% change in download progress.\n",
    "  \"\"\"\n",
    "  global last_percent_reported\n",
    "  percent = int(count * blockSize * 100 / totalSize)\n",
    "\n",
    "  if last_percent_reported != percent:\n",
    "    if percent % 5 == 0:\n",
    "      sys.stdout.write(\"%s%%\" % percent)\n",
    "      sys.stdout.flush()\n",
    "    else:\n",
    "      sys.stdout.write(\".\")\n",
    "      sys.stdout.flush()\n",
    "      \n",
    "    last_percent_reported = percent\n",
    "        \n",
    "def maybe_download(filename, expected_bytes, force=False):\n",
    "  \"\"\"Download a file if not present, and make sure it's the right size.\"\"\"\n",
    "  dest_filename = os.path.join(data_root, filename)\n",
    "  if force or not os.path.exists(dest_filename):\n",
    "    print('Attempting to download:', filename) \n",
    "    filename, _ = urlretrieve(url + filename, dest_filename, reporthook=download_progress_hook)\n",
    "    print('\\nDownload Complete!')\n",
    "  statinfo = os.stat(dest_filename)\n",
    "  if statinfo.st_size == expected_bytes:\n",
    "    print('Found and verified', dest_filename)\n",
    "  else:\n",
    "    raise Exception(\n",
    "      'Failed to verify ' + dest_filename + '. Can you get to it with a browser?')\n",
    "  return dest_filename\n",
    "\n",
    "train_filename = maybe_download('notMNIST_large.tar.gz', 247336696)\n",
    "test_filename = maybe_download('notMNIST_small.tar.gz', 8458043)"
   ]
  },
  {
   "cell_type": "code",
   "execution_count": 3,
   "metadata": {
    "collapsed": false
   },
   "outputs": [
    {
     "name": "stdout",
     "output_type": "stream",
     "text": [
      "D:\\1_Workspaces\\UNDER_VCS\\github\\1_ML_NN\\python_with_math\\data\\notMNIST_large already present - Skipping extraction of D:\\1_Workspaces\\UNDER_VCS\\github\\1_ML_NN\\python_with_math\\data\\notMNIST_large.tar.gz.\n",
      "['D:\\\\1_Workspaces\\\\UNDER_VCS\\\\github\\\\1_ML_NN\\\\python_with_math\\\\data\\\\notMNIST_large\\\\A', 'D:\\\\1_Workspaces\\\\UNDER_VCS\\\\github\\\\1_ML_NN\\\\python_with_math\\\\data\\\\notMNIST_large\\\\B', 'D:\\\\1_Workspaces\\\\UNDER_VCS\\\\github\\\\1_ML_NN\\\\python_with_math\\\\data\\\\notMNIST_large\\\\C', 'D:\\\\1_Workspaces\\\\UNDER_VCS\\\\github\\\\1_ML_NN\\\\python_with_math\\\\data\\\\notMNIST_large\\\\D', 'D:\\\\1_Workspaces\\\\UNDER_VCS\\\\github\\\\1_ML_NN\\\\python_with_math\\\\data\\\\notMNIST_large\\\\E', 'D:\\\\1_Workspaces\\\\UNDER_VCS\\\\github\\\\1_ML_NN\\\\python_with_math\\\\data\\\\notMNIST_large\\\\F', 'D:\\\\1_Workspaces\\\\UNDER_VCS\\\\github\\\\1_ML_NN\\\\python_with_math\\\\data\\\\notMNIST_large\\\\G', 'D:\\\\1_Workspaces\\\\UNDER_VCS\\\\github\\\\1_ML_NN\\\\python_with_math\\\\data\\\\notMNIST_large\\\\H', 'D:\\\\1_Workspaces\\\\UNDER_VCS\\\\github\\\\1_ML_NN\\\\python_with_math\\\\data\\\\notMNIST_large\\\\I', 'D:\\\\1_Workspaces\\\\UNDER_VCS\\\\github\\\\1_ML_NN\\\\python_with_math\\\\data\\\\notMNIST_large\\\\J']\n",
      "D:\\1_Workspaces\\UNDER_VCS\\github\\1_ML_NN\\python_with_math\\data\\notMNIST_small already present - Skipping extraction of D:\\1_Workspaces\\UNDER_VCS\\github\\1_ML_NN\\python_with_math\\data\\notMNIST_small.tar.gz.\n",
      "['D:\\\\1_Workspaces\\\\UNDER_VCS\\\\github\\\\1_ML_NN\\\\python_with_math\\\\data\\\\notMNIST_small\\\\A', 'D:\\\\1_Workspaces\\\\UNDER_VCS\\\\github\\\\1_ML_NN\\\\python_with_math\\\\data\\\\notMNIST_small\\\\B', 'D:\\\\1_Workspaces\\\\UNDER_VCS\\\\github\\\\1_ML_NN\\\\python_with_math\\\\data\\\\notMNIST_small\\\\C', 'D:\\\\1_Workspaces\\\\UNDER_VCS\\\\github\\\\1_ML_NN\\\\python_with_math\\\\data\\\\notMNIST_small\\\\D', 'D:\\\\1_Workspaces\\\\UNDER_VCS\\\\github\\\\1_ML_NN\\\\python_with_math\\\\data\\\\notMNIST_small\\\\E', 'D:\\\\1_Workspaces\\\\UNDER_VCS\\\\github\\\\1_ML_NN\\\\python_with_math\\\\data\\\\notMNIST_small\\\\F', 'D:\\\\1_Workspaces\\\\UNDER_VCS\\\\github\\\\1_ML_NN\\\\python_with_math\\\\data\\\\notMNIST_small\\\\G', 'D:\\\\1_Workspaces\\\\UNDER_VCS\\\\github\\\\1_ML_NN\\\\python_with_math\\\\data\\\\notMNIST_small\\\\H', 'D:\\\\1_Workspaces\\\\UNDER_VCS\\\\github\\\\1_ML_NN\\\\python_with_math\\\\data\\\\notMNIST_small\\\\I', 'D:\\\\1_Workspaces\\\\UNDER_VCS\\\\github\\\\1_ML_NN\\\\python_with_math\\\\data\\\\notMNIST_small\\\\J']\n"
     ]
    }
   ],
   "source": [
    "num_classes = 10\n",
    "np.random.seed(133)\n",
    "\n",
    "def maybe_extract(filename, force=False):\n",
    "  root = os.path.splitext(os.path.splitext(filename)[0])[0]  # remove .tar.gz\n",
    "  if os.path.isdir(root) and not force:\n",
    "    # You may override by setting force=True.\n",
    "    print('%s already present - Skipping extraction of %s.' % (root, filename))\n",
    "  else:\n",
    "    print('Extracting data for %s. This may take a while. Please wait.' % root)\n",
    "    tar = tarfile.open(filename)\n",
    "    sys.stdout.flush()\n",
    "    tar.extractall(data_root)\n",
    "    tar.close()\n",
    "  data_folders = [\n",
    "    os.path.join(root, d) for d in sorted(os.listdir(root))\n",
    "    if os.path.isdir(os.path.join(root, d))]\n",
    "  if len(data_folders) != num_classes:\n",
    "    raise Exception(\n",
    "      'Expected %d folders, one per class. Found %d instead.' % (\n",
    "        num_classes, len(data_folders)))\n",
    "  print(data_folders)\n",
    "  return data_folders\n",
    "  \n",
    "train_folders = maybe_extract(train_filename)\n",
    "test_folders = maybe_extract(test_filename)"
   ]
  },
  {
   "cell_type": "code",
   "execution_count": 4,
   "metadata": {
    "collapsed": false
   },
   "outputs": [
    {
     "data": {
      "image/png": "[encoded data removed]",
      "text/plain": [
       "<IPython.core.display.Image object>"
      ]
     },
     "execution_count": 4,
     "metadata": {},
     "output_type": "execute_result"
    }
   ],
   "source": [
    "Image(filename=data_root+'\\\\notMNIST_large\\\\A\\\\a2F6b28udHRm.png') "
   ]
  },
  {
   "cell_type": "code",
   "execution_count": 5,
   "metadata": {
    "collapsed": false
   },
   "outputs": [
    {
     "data": {
      "image/png": "[encoded data removed]",
      "text/plain": [
       "<IPython.core.display.Image object>"
      ]
     },
     "execution_count": 5,
     "metadata": {},
     "output_type": "execute_result"
    }
   ],
   "source": [
    "Image(filename=data_root+'\\\\notMNIST_large\\\\A\\\\a3JvZWdlciAwNl81NS50dGY=.png')"
   ]
  },
  {
   "cell_type": "code",
   "execution_count": 6,
   "metadata": {
    "collapsed": false
   },
   "outputs": [
    {
     "name": "stdout",
     "output_type": "stream",
     "text": [
      "D:\\1_Workspaces\\UNDER_VCS\\github\\1_ML_NN\\python_with_math\\data\\notMNIST_large\\A.pickle already present - Skipping pickling.\n",
      "D:\\1_Workspaces\\UNDER_VCS\\github\\1_ML_NN\\python_with_math\\data\\notMNIST_large\\B.pickle already present - Skipping pickling.\n",
      "D:\\1_Workspaces\\UNDER_VCS\\github\\1_ML_NN\\python_with_math\\data\\notMNIST_large\\C.pickle already present - Skipping pickling.\n",
      "D:\\1_Workspaces\\UNDER_VCS\\github\\1_ML_NN\\python_with_math\\data\\notMNIST_large\\D.pickle already present - Skipping pickling.\n",
      "D:\\1_Workspaces\\UNDER_VCS\\github\\1_ML_NN\\python_with_math\\data\\notMNIST_large\\E.pickle already present - Skipping pickling.\n",
      "D:\\1_Workspaces\\UNDER_VCS\\github\\1_ML_NN\\python_with_math\\data\\notMNIST_large\\F.pickle already present - Skipping pickling.\n",
      "D:\\1_Workspaces\\UNDER_VCS\\github\\1_ML_NN\\python_with_math\\data\\notMNIST_large\\G.pickle already present - Skipping pickling.\n",
      "D:\\1_Workspaces\\UNDER_VCS\\github\\1_ML_NN\\python_with_math\\data\\notMNIST_large\\H.pickle already present - Skipping pickling.\n",
      "D:\\1_Workspaces\\UNDER_VCS\\github\\1_ML_NN\\python_with_math\\data\\notMNIST_large\\I.pickle already present - Skipping pickling.\n",
      "D:\\1_Workspaces\\UNDER_VCS\\github\\1_ML_NN\\python_with_math\\data\\notMNIST_large\\J.pickle already present - Skipping pickling.\n",
      "D:\\1_Workspaces\\UNDER_VCS\\github\\1_ML_NN\\python_with_math\\data\\notMNIST_small\\A.pickle already present - Skipping pickling.\n",
      "D:\\1_Workspaces\\UNDER_VCS\\github\\1_ML_NN\\python_with_math\\data\\notMNIST_small\\B.pickle already present - Skipping pickling.\n",
      "D:\\1_Workspaces\\UNDER_VCS\\github\\1_ML_NN\\python_with_math\\data\\notMNIST_small\\C.pickle already present - Skipping pickling.\n",
      "D:\\1_Workspaces\\UNDER_VCS\\github\\1_ML_NN\\python_with_math\\data\\notMNIST_small\\D.pickle already present - Skipping pickling.\n",
      "D:\\1_Workspaces\\UNDER_VCS\\github\\1_ML_NN\\python_with_math\\data\\notMNIST_small\\E.pickle already present - Skipping pickling.\n",
      "D:\\1_Workspaces\\UNDER_VCS\\github\\1_ML_NN\\python_with_math\\data\\notMNIST_small\\F.pickle already present - Skipping pickling.\n",
      "D:\\1_Workspaces\\UNDER_VCS\\github\\1_ML_NN\\python_with_math\\data\\notMNIST_small\\G.pickle already present - Skipping pickling.\n",
      "D:\\1_Workspaces\\UNDER_VCS\\github\\1_ML_NN\\python_with_math\\data\\notMNIST_small\\H.pickle already present - Skipping pickling.\n",
      "D:\\1_Workspaces\\UNDER_VCS\\github\\1_ML_NN\\python_with_math\\data\\notMNIST_small\\I.pickle already present - Skipping pickling.\n",
      "D:\\1_Workspaces\\UNDER_VCS\\github\\1_ML_NN\\python_with_math\\data\\notMNIST_small\\J.pickle already present - Skipping pickling.\n"
     ]
    }
   ],
   "source": [
    "image_size = 28  # Pixel width and height.\n",
    "pixel_depth = 255.0  # Number of levels per pixel.\n",
    "\n",
    "def load_letter(folder, min_num_images):\n",
    "  \"\"\"Load the data for a single letter label.\"\"\"\n",
    "  image_files = os.listdir(folder) ## it counts all files in the folder\n",
    "  dataset = np.ndarray(shape=(len(image_files), image_size, image_size),\n",
    "                         dtype=np.float32) #it creates a 3d array\n",
    "  print(folder)\n",
    "  num_images = 0\n",
    "  for image in image_files:\n",
    "    image_file = os.path.join(folder, image)\n",
    "    try:\n",
    "      image_data = (imageio.imread(image_file).astype(float) - \n",
    "                    pixel_depth / 2) / pixel_depth\n",
    "      if image_data.shape != (image_size, image_size):\n",
    "        raise Exception('Unexpected image shape: %s' % str(image_data.shape))\n",
    "      dataset[num_images, :, :] = image_data\n",
    "      num_images = num_images + 1\n",
    "    except (IOError, ValueError) as e:\n",
    "      print('Could not read:', image_file, ':', e, '- it\\'s ok, skipping.')\n",
    "    \n",
    "  dataset = dataset[0:num_images, :, :]\n",
    "  if num_images < min_num_images:\n",
    "    raise Exception('Many fewer images than expected: %d < %d' %\n",
    "                    (num_images, min_num_images))\n",
    "    \n",
    "  print('Full dataset tensor:', dataset.shape)\n",
    "  print('Mean:', np.mean(dataset))\n",
    "  print('Standard deviation:', np.std(dataset))\n",
    "  return dataset\n",
    "        \n",
    "def maybe_pickle(data_folders, min_num_images_per_class, force=False):\n",
    "  dataset_names = []\n",
    "  for folder in data_folders:                #for each letter's folder\n",
    "    set_filename = folder + '.pickle'        #create a file with appropriate letter's name\n",
    "    dataset_names.append(set_filename)       #add them to a returned set\n",
    "    if os.path.exists(set_filename) and not force:\n",
    "      # You may override by setting force=True.\n",
    "      print('%s already present - Skipping pickling.' % set_filename)\n",
    "    else:\n",
    "      print('Pickling %s.' % set_filename)\n",
    "      dataset = load_letter(folder, min_num_images_per_class) #it loads a letter from folder to a 3D array\n",
    "      try:\n",
    "        with open(set_filename, 'wb') as f:\n",
    "          pickle.dump(dataset, f, pickle.HIGHEST_PROTOCOL)    #it dumps a 3D array to a file\n",
    "      except Exception as e:\n",
    "        print('Unable to save data to', set_filename, ':', e)\n",
    "  \n",
    "  return dataset_names\n",
    "\n",
    "train_datasets = maybe_pickle(train_folders, 45000) # it creates 3D array for all letters in a train dataset\n",
    "test_datasets = maybe_pickle(test_folders, 1800)# it creates 3D array for all letters in a test dataset"
   ]
  },
  {
   "cell_type": "code",
   "execution_count": 10,
   "metadata": {
    "collapsed": false
   },
   "outputs": [
    {
     "name": "stdout",
     "output_type": "stream",
     "text": [
      "D:\\1_Workspaces\\UNDER_VCS\\github\\1_ML_NN\\python_with_math\\data\\notMNIST_large\\A.pickle\n",
      "3 \t (52909, 28, 28)\n",
      "============================================= point to print in a screen of image at index 0 =========================\n",
      "-0.484314\n",
      "============================================= array[0] of pixels of image at index 0 =================================\n",
      "[-0.5        -0.5        -0.5        -0.5        -0.48431373 -0.5\n",
      " -0.19019608  0.46862745  0.49215686  0.5         0.5         0.5         0.5\n",
      "  0.5         0.5         0.5         0.5         0.5         0.5\n",
      "  0.49215686  0.46862745 -0.19019608 -0.5        -0.48431373 -0.5        -0.5\n",
      " -0.5        -0.5       ]\n",
      "============================================= array[1] of pixels of image at index 0 =================================\n",
      "[-0.5        -0.5        -0.5        -0.48823529 -0.5        -0.30392158\n",
      "  0.43333334  0.5         0.49215686  0.5         0.5         0.5         0.5\n",
      "  0.5         0.5         0.5         0.5         0.5         0.5\n",
      "  0.49215686  0.5         0.43333334 -0.30392158 -0.5        -0.48823529\n",
      " -0.5        -0.5        -0.5       ]\n",
      "============================================= Image at index 0 =======================================================\n",
      "(28, 28) \n",
      " [[-0.5        -0.5        -0.5        -0.5        -0.48431373 -0.5\n",
      "  -0.19019608  0.46862745  0.49215686  0.5         0.5         0.5         0.5\n",
      "   0.5         0.5         0.5         0.5         0.5         0.5\n",
      "   0.49215686  0.46862745 -0.19019608 -0.5        -0.48431373 -0.5        -0.5\n",
      "  -0.5        -0.5       ]\n",
      " [-0.5        -0.5        -0.5        -0.48823529 -0.5        -0.30392158\n",
      "   0.43333334  0.5         0.49215686  0.5         0.5         0.5         0.5\n",
      "   0.5         0.5         0.5         0.5         0.5         0.5\n",
      "   0.49215686  0.5         0.43333334 -0.30392158 -0.5        -0.48823529\n",
      "  -0.5        -0.5        -0.5       ]\n",
      " [-0.5        -0.5        -0.48823529 -0.5        -0.37843138  0.38627452\n",
      "   0.5         0.49215686  0.5         0.5         0.5         0.5         0.5\n",
      "   0.5         0.5         0.5         0.5         0.5         0.5         0.5\n",
      "   0.49215686  0.5         0.38627452 -0.37843138 -0.5        -0.48823529\n",
      "  -0.5        -0.5       ]\n",
      " [-0.5        -0.49215686 -0.49607843 -0.43725491  0.31176472  0.5\n",
      "   0.48823529  0.5         0.5         0.5         0.5         0.5         0.5\n",
      "   0.5         0.5         0.5         0.5         0.5         0.5         0.5\n",
      "   0.5         0.48823529  0.5         0.31176472 -0.43725491 -0.49607843\n",
      "  -0.49215686 -0.5       ]\n",
      " [-0.49607843 -0.49215686 -0.48431373  0.2254902   0.5         0.48431373\n",
      "   0.5         0.5         0.5         0.5         0.5         0.5         0.5\n",
      "   0.5         0.5         0.5         0.5         0.5         0.5         0.5\n",
      "   0.5         0.5         0.48431373  0.5         0.2254902  -0.48431373\n",
      "  -0.49215686 -0.49607843]\n",
      " [-0.48431373 -0.5         0.12352941  0.5         0.48431373  0.5         0.5\n",
      "   0.5         0.5         0.5         0.5         0.5         0.5         0.5\n",
      "   0.5         0.5         0.5         0.5         0.5         0.5         0.5\n",
      "   0.5         0.5         0.48431373  0.5         0.12352941 -0.5\n",
      "  -0.48431373]\n",
      " [-0.5         0.00980392  0.5         0.48431373  0.5         0.5         0.5\n",
      "   0.49607843  0.49215686  0.49215686  0.49215686  0.49215686  0.49215686\n",
      "   0.49215686  0.49215686  0.49215686  0.49215686  0.49215686  0.49215686\n",
      "   0.49215686  0.49607843  0.5         0.5         0.5         0.48431373\n",
      "   0.5         0.00980392 -0.5       ]\n",
      " [-0.06078431  0.5         0.48823529  0.5         0.5         0.5         0.5\n",
      "   0.5         0.5         0.5         0.5         0.5         0.5         0.5\n",
      "   0.5         0.5         0.5         0.5         0.5         0.5         0.5\n",
      "   0.5         0.5         0.5         0.5         0.48823529  0.5\n",
      "  -0.06078431]\n",
      " [ 0.5         0.49607843  0.49607843  0.5         0.5         0.49607843\n",
      "   0.5        -0.14313726 -0.30784315 -0.29607844 -0.30784315 -0.30784315\n",
      "  -0.30784315 -0.30784315 -0.30784315 -0.30784315 -0.30784315 -0.30784315\n",
      "  -0.29607844 -0.30784315 -0.14313726  0.5         0.49607843  0.5         0.5\n",
      "   0.49607843  0.49607843  0.5       ]\n",
      " [ 0.5         0.5         0.5         0.5         0.5         0.49607843\n",
      "   0.5        -0.33529413 -0.5        -0.5        -0.5        -0.5        -0.5\n",
      "  -0.5        -0.5        -0.5        -0.5        -0.5        -0.5        -0.5\n",
      "  -0.33529413  0.5         0.49607843  0.5         0.5         0.5         0.5\n",
      "   0.5       ]\n",
      " [ 0.5         0.5         0.5         0.5         0.5         0.49607843\n",
      "   0.5        -0.29215688 -0.49215686 -0.48039216 -0.49215686 -0.49215686\n",
      "  -0.49215686 -0.49215686 -0.49215686 -0.49215686 -0.49215686 -0.49215686\n",
      "  -0.48039216 -0.49215686 -0.29215688  0.5         0.49607843  0.5         0.5\n",
      "   0.5         0.5         0.5       ]\n",
      " [ 0.5         0.5         0.5         0.5         0.5         0.49607843\n",
      "   0.5        -0.30000001 -0.5        -0.48823529 -0.5        -0.5        -0.5\n",
      "  -0.5        -0.5        -0.5        -0.5        -0.5        -0.48823529\n",
      "  -0.5        -0.30000001  0.5         0.49607843  0.5         0.5         0.5\n",
      "   0.5         0.5       ]\n",
      " [ 0.5         0.5         0.5         0.5         0.5         0.49607843\n",
      "   0.5        -0.30000001 -0.5        -0.48823529 -0.5        -0.5        -0.5\n",
      "  -0.5        -0.5        -0.5        -0.5        -0.5        -0.48823529\n",
      "  -0.5        -0.30000001  0.5         0.49607843  0.5         0.5         0.5\n",
      "   0.5         0.5       ]\n",
      " [ 0.5         0.5         0.5         0.5         0.5         0.49607843\n",
      "   0.5        -0.29607844 -0.49607843 -0.48431373 -0.49607843 -0.49607843\n",
      "  -0.49607843 -0.49607843 -0.49607843 -0.49607843 -0.49607843 -0.49607843\n",
      "  -0.48431373 -0.49607843 -0.29607844  0.5         0.49607843  0.5         0.5\n",
      "   0.5         0.5         0.5       ]\n",
      " [ 0.49607843  0.5         0.5         0.5         0.5         0.49607843\n",
      "   0.5        -0.31960785 -0.5        -0.5        -0.5        -0.5        -0.5\n",
      "  -0.5        -0.5        -0.5        -0.5        -0.5        -0.5        -0.5\n",
      "  -0.31960785  0.5         0.49607843  0.5         0.5         0.5         0.5\n",
      "   0.5       ]\n",
      " [ 0.5         0.49607843  0.5         0.5         0.5         0.49607843\n",
      "   0.5        -0.22156863 -0.40196079 -0.39019608 -0.40196079 -0.40196079\n",
      "  -0.40196079 -0.40196079 -0.40196079 -0.40196079 -0.40196079 -0.40196079\n",
      "  -0.39019608 -0.40588236 -0.2254902   0.5         0.49607843  0.5         0.5\n",
      "   0.5         0.5         0.5       ]\n",
      " [ 0.0372549   0.5         0.48823529  0.5         0.5         0.5         0.5\n",
      "   0.48039216  0.47647059  0.47647059  0.47647059  0.47647059  0.47647059\n",
      "   0.47647059  0.47647059  0.47647059  0.47647059  0.48039216  0.47647059\n",
      "   0.48431373  0.5         0.49607843  0.5         0.5         0.5         0.5\n",
      "   0.5         0.5       ]\n",
      " [-0.5         0.1         0.5         0.48431373  0.5         0.5         0.5\n",
      "   0.5         0.5         0.5         0.5         0.5         0.5         0.5\n",
      "   0.5         0.5         0.5         0.5         0.5         0.48039216\n",
      "   0.04509804  0.48431373  0.5         0.5         0.5         0.5         0.5\n",
      "   0.5       ]\n",
      " [-0.48823529 -0.48823529  0.21372549  0.5         0.48431373  0.5         0.5\n",
      "   0.49607843  0.49607843  0.49607843  0.49607843  0.49607843  0.49607843\n",
      "   0.49607843  0.49607843  0.49607843  0.49215686  0.48823529  0.5\n",
      "  -0.16666667 -0.37450981  0.5         0.49607843  0.5         0.5         0.5\n",
      "   0.5         0.5       ]\n",
      " [-0.49215686 -0.49607843 -0.44509804  0.30392158  0.5         0.48823529\n",
      "   0.5         0.5         0.5         0.5         0.5         0.5         0.5\n",
      "   0.5         0.5         0.49607843  0.48823529  0.5        -0.07254902\n",
      "  -0.5        -0.28431374  0.5         0.49607843  0.5         0.5         0.5\n",
      "   0.5         0.5       ]\n",
      " [-0.5        -0.49215686 -0.5        -0.38235295  0.37843138  0.5\n",
      "   0.49215686  0.5         0.5         0.5         0.5         0.5         0.5\n",
      "   0.5         0.49607843  0.48431373  0.5        -0.04509804 -0.5\n",
      "  -0.49215686 -0.30000001  0.5         0.49607843  0.5         0.5         0.5\n",
      "   0.5         0.5       ]\n",
      " [-0.5        -0.5        -0.48823529 -0.5        -0.31176472  0.43725491\n",
      "   0.49607843  0.49215686  0.5         0.5         0.5         0.5         0.5\n",
      "   0.49607843  0.48823529  0.5        -0.00196078 -0.5        -0.47647059\n",
      "  -0.5        -0.30000001  0.5         0.49607843  0.5         0.5         0.5\n",
      "   0.5         0.5       ]\n",
      " [-0.5        -0.5        -0.5        -0.48431373 -0.5        -0.22156863\n",
      "   0.48431373  0.5         0.49607843  0.5         0.5         0.5         0.5\n",
      "   0.49215686  0.5         0.0372549  -0.5        -0.48823529 -0.48823529\n",
      "  -0.5        -0.30000001  0.48823529  0.49215686  0.5         0.5         0.5\n",
      "   0.5         0.5       ]\n",
      " [-0.5        -0.5        -0.5        -0.5        -0.48431373 -0.5\n",
      "  -0.11960784  0.48431373  0.5         0.5         0.5         0.5         0.5\n",
      "   0.5         0.07647059 -0.5        -0.48431373 -0.49607843 -0.48823529\n",
      "  -0.5        -0.29607844  0.5         0.5         0.48431373  0.49607843\n",
      "   0.5         0.5         0.5       ]\n",
      " [-0.5        -0.5        -0.5        -0.5        -0.5        -0.49215686\n",
      "  -0.5        -0.37450981 -0.35490197 -0.35882354 -0.35490197 -0.35490197\n",
      "  -0.35490197 -0.35490197 -0.5        -0.49607843 -0.49607843 -0.5\n",
      "  -0.49607843 -0.49607843 -0.46470588 -0.00980392  0.4254902   0.5         0.5\n",
      "   0.48823529  0.5         0.5       ]\n",
      " [-0.5        -0.5        -0.5        -0.5        -0.5        -0.5\n",
      "  -0.49607843 -0.5        -0.5        -0.5        -0.5        -0.5        -0.5\n",
      "  -0.5        -0.5        -0.5        -0.5        -0.5        -0.5        -0.5\n",
      "  -0.5        -0.5        -0.37450981  0.08039216  0.46862745  0.5         0.5\n",
      "   0.49215686]\n",
      " [-0.5        -0.5        -0.5        -0.5        -0.5        -0.5        -0.5\n",
      "  -0.49215686 -0.49215686 -0.49215686 -0.49215686 -0.49215686 -0.49215686\n",
      "  -0.49215686 -0.5        -0.5        -0.5        -0.5        -0.5        -0.5\n",
      "  -0.5        -0.48823529 -0.5        -0.5        -0.34313726  0.12352941\n",
      "   0.48039216  0.5       ]\n",
      " [-0.5        -0.5        -0.5        -0.5        -0.5        -0.5        -0.5\n",
      "  -0.5        -0.5        -0.5        -0.5        -0.5        -0.5        -0.5\n",
      "  -0.5        -0.5        -0.5        -0.5        -0.5        -0.5        -0.5\n",
      "  -0.5        -0.49215686 -0.48823529 -0.5        -0.5        -0.24509804\n",
      "   0.24509804]]\n",
      "============================================= Full set of images =====================================================\n"
     ]
    }
   ],
   "source": [
    "a_picle_filename = train_datasets[0]\n",
    "print (a_picle_filename)\n",
    "input = open(a_picle_filename, 'rb')\n",
    "_3Darray_A = pickle.load(input)\n",
    "input.close()\n",
    "print (_3Darray_A.ndim, '\\t', _3Darray_A.shape)\n",
    "print ('============================================= point to print in a screen of image at index 0 =========================')\n",
    "print (_3Darray_A[0][0][4])\n",
    "print ('============================================= array[0] of pixels of image at index 0 =================================')\n",
    "print (_3Darray_A[0][0])\n",
    "print ('============================================= array[1] of pixels of image at index 0 =================================')\n",
    "print (_3Darray_A[0][1])\n",
    "print ('============================================= Image at index 0 =======================================================')\n",
    "print (_3Darray_A[0].shape, '\\n', _3Darray_A[0]) #28 * 28 features\n",
    "print ('============================================= Full set of images =====================================================')\n",
    "#print (_3Darray_A)"
   ]
  },
  {
   "cell_type": "code",
   "execution_count": 11,
   "metadata": {
    "collapsed": false
   },
   "outputs": [
    {
     "data": {
      "text/plain": [
       "[<matplotlib.lines.Line2D at 0x1a8c584e518>]"
      ]
     },
     "execution_count": 11,
     "metadata": {},
     "output_type": "execute_result"
    },
    {
     "data": {
      "image/png": "[encoded data removed]",
      "text/plain": [
       "<matplotlib.figure.Figure at 0x1a8c5455668>"
      ]
     },
     "metadata": {},
     "output_type": "display_data"
    }
   ],
   "source": [
    "# here is an example of plotting with matplotlib\n",
    "x = np.arange(0, 5, 0.1);\n",
    "y = np.sin(x)\n",
    "plt.plot(x, y)"
   ]
  },
  {
   "cell_type": "code",
   "execution_count": 79,
   "metadata": {
    "collapsed": false
   },
   "outputs": [
    {
     "name": "stdout",
     "output_type": "stream",
     "text": [
      "0  =  (28, 28)\n",
      "1  =  (28, 28)\n",
      "2  =  (28, 28)\n",
      "3  =  (28, 28)\n",
      "4  =  (28, 28)\n",
      "5  =  (28, 28)\n",
      "6  =  (28, 28)\n",
      "7  =  (28, 28)\n",
      "8  =  (28, 28)\n",
      "9  =  (28, 28)\n",
      "D:\\1_Workspaces\\UNDER_VCS\\github\\1_ML_NN\\python_with_math\\data\\notMNIST_large\\B.pickle\n"
     ]
    },
    {
     "name": "stderr",
     "output_type": "stream",
     "text": [
      "C:\\Other_IT\\Anaconda\\lib\\site-packages\\imageio\\core\\util.py:104: UserWarning: Conversion from float32 to uint8, range [-0.5, 0.5]\n",
      "  'range [{2}, {3}]'.format(dtype_str, out_type.__name__, mi, ma))\n"
     ]
    },
    {
     "name": "stdout",
     "output_type": "stream",
     "text": [
      "0  =  (28, 28)\n",
      "1  =  (28, 28)\n",
      "2  =  (28, 28)\n",
      "3  =  (28, 28)\n",
      "4  =  (28, 28)\n",
      "5  =  (28, 28)\n",
      "6  =  (28, 28)\n",
      "7  =  (28, 28)\n",
      "8  =  (28, 28)\n",
      "9  =  (28, 28)\n"
     ]
    }
   ],
   "source": [
    "# here is a pictures from picle written to a folder\n",
    "for i in range (10):\n",
    "    x = _3Darray_A[i]\n",
    "    print (i, \" = \", x.shape)\n",
    "    imageio.imwrite(data_root + '\\\\imageio\\\\picle_A_' + str(i) + '.png', x[:])\n",
    "\n",
    "b_picle_filename = train_datasets[1]\n",
    "print (b_picle_filename)\n",
    "input = open(b_picle_filename, 'rb')\n",
    "_3Darray_B = pickle.load(input)\n",
    "input.close()\n",
    "# here is a pictures from picle written to a folder\n",
    "for i in range (10):\n",
    "    x = _3Darray_B[i]\n",
    "    print (i, \" = \", x.shape)\n",
    "    imageio.imwrite(data_root + '\\\\imageio\\\\picle_B_' + str(i) + '.png', x[:])"
   ]
  },
  {
   "cell_type": "code",
   "execution_count": 13,
   "metadata": {
    "collapsed": false
   },
   "outputs": [
    {
     "data": {
      "text/plain": [
       "<matplotlib.image.AxesImage at 0x1a8c59be7f0>"
      ]
     },
     "execution_count": 13,
     "metadata": {},
     "output_type": "execute_result"
    },
    {
     "data": {
      "image/png": "[encoded data removed]",
      "text/plain": [
       "<matplotlib.figure.Figure at 0x1a8c5843080>"
      ]
     },
     "metadata": {},
     "output_type": "display_data"
    }
   ],
   "source": [
    "# here is a picture from pilce which is shown direct here:\n",
    "y = _3Darray_A[0]\n",
    "plt.imshow(y)"
   ]
  },
  {
   "cell_type": "code",
   "execution_count": 14,
   "metadata": {
    "collapsed": false
   },
   "outputs": [
    {
     "data": {
      "text/plain": [
       "<matplotlib.image.AxesImage at 0x1a8c5a6f978>"
      ]
     },
     "execution_count": 14,
     "metadata": {},
     "output_type": "execute_result"
    },
    {
     "data": {
      "image/png": "[encoded data removed]",
      "text/plain": [
       "<matplotlib.figure.Figure at 0x1a8c595f240>"
      ]
     },
     "metadata": {},
     "output_type": "display_data"
    }
   ],
   "source": [
    "# here is a real image as seen at the time when it was read and written to a 3dArray. Notice it the same as previous.\n",
    "image_data = (imageio.imread(data_root + '\\\\notMNIST_large\\\\A\\\\a29ydW5pc2hpLnR0Zg==.png').astype(float) - \n",
    "                    pixel_depth / 2) / pixel_depth\n",
    "plt.imshow(image_data)"
   ]
  },
  {
   "cell_type": "code",
   "execution_count": 15,
   "metadata": {
    "collapsed": false
   },
   "outputs": [
    {
     "name": "stdout",
     "output_type": "stream",
     "text": [
      "====================== merging =======================================\n",
      "valid_size  1000 \n",
      "\n",
      "train_size  10000 \n",
      " num_classes 10 \n",
      "\n",
      "vsize_per_class  100 \n",
      " tsize_per_class 1000 \n",
      "\n",
      "\n",
      "====================== merging =======================================\n",
      "valid_size  0 \n",
      "\n",
      "train_size  1000 \n",
      " num_classes 10 \n",
      "\n",
      "vsize_per_class  0 \n",
      " tsize_per_class 100 \n",
      "\n",
      "\n",
      "Training: (10000, 28, 28) (10000,)\n",
      "Validation: (1000, 28, 28) (1000,)\n",
      "Testing: (1000, 28, 28) (1000,)\n"
     ]
    }
   ],
   "source": [
    "#it creates an empty n-dimensional arrays\n",
    "def make_arrays(nb_rows, img_size):\n",
    "  if nb_rows:\n",
    "    dataset = np.ndarray((nb_rows, img_size, img_size), dtype=np.float32)\n",
    "    labels = np.ndarray(nb_rows, dtype=np.int32)\n",
    "  else:\n",
    "    dataset, labels = None, None\n",
    "  return dataset, labels\n",
    "\n",
    "# it creates a single 3dArray from all GIVEN picle files\n",
    "def merge_datasets(pickle_files, train_size, valid_size=0):\n",
    "  print ('====================== merging =======================================')\n",
    "  num_classes = len(pickle_files)\n",
    "\n",
    "  valid_dataset, valid_labels = make_arrays(valid_size, image_size)  #empty array\n",
    "  train_dataset, train_labels = make_arrays(train_size, image_size)  #empty array\n",
    "\n",
    "  vsize_per_class = valid_size // num_classes\n",
    "  tsize_per_class = train_size // num_classes\n",
    "\n",
    "  print ('valid_size ', valid_size, '\\n')\n",
    "  print ('train_size ', train_size, '\\n', 'num_classes', num_classes, '\\n')\n",
    "  print ('vsize_per_class ', vsize_per_class, '\\n', 'tsize_per_class', tsize_per_class, '\\n\\n')\n",
    "    \n",
    "  start_v, start_t = 0, 0\n",
    "  end_v, end_t = vsize_per_class, tsize_per_class\n",
    "  end_l = vsize_per_class+tsize_per_class\n",
    "\n",
    "  for label, pickle_file in enumerate(pickle_files):       \n",
    "    try:\n",
    "      with open(pickle_file, 'rb') as f:\n",
    "        letter_set = pickle.load(f)\n",
    "        # let's shuffle the letters to have random validation and training set\n",
    "        np.random.shuffle(letter_set)\n",
    "        if valid_dataset is not None:\n",
    "          valid_letter = letter_set[:vsize_per_class, :, :]\n",
    "          valid_dataset[start_v:end_v, :, :] = valid_letter\n",
    "          valid_labels[start_v:end_v] = label\n",
    "          start_v += vsize_per_class\n",
    "          end_v += vsize_per_class\n",
    "                    \n",
    "        train_letter = letter_set[vsize_per_class:end_l, :, :]\n",
    "        train_dataset[start_t:end_t, :, :] = train_letter\n",
    "        train_labels[start_t:end_t] = label\n",
    "        start_t += tsize_per_class\n",
    "        end_t += tsize_per_class\n",
    "    except Exception as e:\n",
    "      print('Unable to process data from', pickle_file, ':', e)\n",
    "      raise\n",
    "        \n",
    "# it returns 4 objects!!\n",
    "  return valid_dataset, valid_labels, train_dataset, train_labels\n",
    "            \n",
    "#SUBJECT TO CHANGE accordingly to task 6            \n",
    "train_size = 10000\n",
    "valid_size = 1000\n",
    "test_size = 1000\n",
    "\n",
    "# it uses all 4 objects\n",
    "valid_dataset, valid_labels, train_dataset, train_labels = merge_datasets(train_datasets, train_size, valid_size)\n",
    "\n",
    "# it uses only 2 last objects\n",
    "_, _, test_dataset, test_labels = merge_datasets(test_datasets, test_size)\n",
    "\n",
    "print('Training:', train_dataset.shape, train_labels.shape)\n",
    "print('Validation:', valid_dataset.shape, valid_labels.shape)\n",
    "print('Testing:', test_dataset.shape, test_labels.shape)"
   ]
  },
  {
   "cell_type": "code",
   "execution_count": 17,
   "metadata": {
    "collapsed": true
   },
   "outputs": [],
   "source": [
    "def randomize(dataset, labels):\n",
    "  permutation = np.random.permutation(labels.shape[0])\n",
    "  shuffled_dataset = dataset[permutation,:,:]\n",
    "  shuffled_labels = labels[permutation]\n",
    "  return shuffled_dataset, shuffled_labels\n",
    "train_dataset, train_labels = randomize(train_dataset, train_labels)\n",
    "test_dataset, test_labels = randomize(test_dataset, test_labels)\n",
    "valid_dataset, valid_labels = randomize(valid_dataset, valid_labels)"
   ]
  },
  {
   "cell_type": "code",
   "execution_count": 18,
   "metadata": {
    "collapsed": false
   },
   "outputs": [
    {
     "name": "stdout",
     "output_type": "stream",
     "text": [
      "Training: (10000, 28, 28) (10000,)\n",
      "Validation: (1000, 28, 28) (1000,)\n",
      "Testing: (1000, 28, 28) (1000,)\n"
     ]
    }
   ],
   "source": [
    "print('Training:', train_dataset.shape, train_labels.shape)\n",
    "print('Validation:', valid_dataset.shape, valid_labels.shape)\n",
    "print('Testing:', test_dataset.shape, test_labels.shape)"
   ]
  },
  {
   "cell_type": "code",
   "execution_count": 19,
   "metadata": {
    "collapsed": false
   },
   "outputs": [],
   "source": [
    "# it dumps a big 3D array to a big file. Note - each time we have a RANDOMLY SHUFFLED array \n",
    "# so we HAVE TO dump it without checking\n",
    "\n",
    "pickle_file = os.path.join(data_root, 'notMNIST.pickle')\n",
    "\n",
    "def dumpBigShuffledArray():\n",
    "    try:\n",
    "        f = open(pickle_file, 'wb')\n",
    "        save = {\n",
    "            'train_dataset': train_dataset,\n",
    "            'train_labels': train_labels,\n",
    "            'valid_dataset': valid_dataset,\n",
    "            'valid_labels': valid_labels,\n",
    "            'test_dataset': test_dataset,\n",
    "            'test_labels': test_labels,\n",
    "        }\n",
    "        pickle.dump(save, f, pickle.HIGHEST_PROTOCOL)\n",
    "        f.close()\n",
    "    except Exception as e:\n",
    "        print('Unable to save data to', pickle_file, ':', e)\n",
    "        raise"
   ]
  },
  {
   "cell_type": "code",
   "execution_count": 20,
   "metadata": {
    "collapsed": false
   },
   "outputs": [],
   "source": [
    "dumpBigShuffledArray()\n",
    "\n",
    "# but if you want to skip - just jump to the next cell"
   ]
  },
  {
   "cell_type": "code",
   "execution_count": 21,
   "metadata": {
    "collapsed": false
   },
   "outputs": [
    {
     "name": "stdout",
     "output_type": "stream",
     "text": [
      "Compressed pickle size: 37680493\n",
      "D:\\1_Workspaces\\UNDER_VCS\\github\\1_ML_NN\\python_with_math\\data\\notMNIST.pickle already present - Skipping pickling.\n"
     ]
    }
   ],
   "source": [
    "# you can check the file existance\n",
    "# don't worry to run this cell just because it cheks a file firstly\n",
    "\n",
    "if os.path.exists(pickle_file):\n",
    "      # You may override by setting force=True.\n",
    "      statinfo = os.stat(pickle_file)\n",
    "      print('Compressed pickle size:', statinfo.st_size)\n",
    "      print('%s already present - Skipping pickling.' % pickle_file)      \n",
    "else:\n",
    "  dumpBigShuffledArray()"
   ]
  },
  {
   "cell_type": "code",
   "execution_count": 22,
   "metadata": {
    "collapsed": false
   },
   "outputs": [
    {
     "data": {
      "text/plain": [
       "<matplotlib.image.AxesImage at 0x1a8809455c0>"
      ]
     },
     "execution_count": 22,
     "metadata": {},
     "output_type": "execute_result"
    },
    {
     "data": {
      "image/png": "[encoded data removed]",
      "text/plain": [
       "<matplotlib.figure.Figure at 0x1a8c5a27160>"
      ]
     },
     "metadata": {},
     "output_type": "display_data"
    }
   ],
   "source": [
    "#it checks a picture from a big 3dArray. IT ALWAYS WILL BE A DIFFERENT PICTURE.\n",
    "input = open(pickle_file, 'rb')\n",
    "_3Darray_BIG = pickle.load(input)\n",
    "input.close()\n",
    "train_dataset_my = _3Darray_BIG['train_dataset']\n",
    "img_overlapped = train_dataset_my[10]\n",
    "plt.imshow(img_overlapped)"
   ]
  },
  {
   "cell_type": "code",
   "execution_count": 23,
   "metadata": {
    "collapsed": false
   },
   "outputs": [],
   "source": [
    "NEURAL_OUTPUT_CLASSES = 10;\n",
    "VECTOR_DIMENSION = 784; #square 28*28 as from data set -> array 784 items\n",
    "            #first layer is an image 28x28 pixels -> 784 pixels\n",
    "            #last layer is a digit from 0 to 9, the output is a one dimensional vector of size 10.\n",
    "            #The values of output vector are probabilities that the input is likely to be one of those digits.\n",
    "            #layers = new int[]{VECTOR_DIMENSION, 128, 64, NEURAL_OUTPUT_CLASSES};\n",
    "#log_regr = LogisticRegression(penalty='l2', dual=False, tol=0.0001, C=1.0, fit_intercept=True, \n",
    "                   #intercept_scaling=1, class_weight=None, random_state=None, solver='liblinear', \n",
    "                   #max_iter=100, multi_class='ovr', verbose=0, warm_start=False, n_jobs=1);\n",
    "log_regr = LogisticRegression();"
   ]
  },
  {
   "cell_type": "code",
   "execution_count": 24,
   "metadata": {
    "collapsed": false
   },
   "outputs": [
    {
     "name": "stdout",
     "output_type": "stream",
     "text": [
      "(10000, 784)\n"
     ]
    }
   ],
   "source": [
    "nsamples, nx, ny = train_dataset.shape\n",
    "train_dataset_reshaped = train_dataset.reshape((nsamples,nx*ny))\n",
    "print (train_dataset_reshaped.shape)"
   ]
  },
  {
   "cell_type": "code",
   "execution_count": 25,
   "metadata": {
    "collapsed": true
   },
   "outputs": [],
   "source": [
    "log_regr.fit(train_dataset_reshaped,train_labels);"
   ]
  },
  {
   "cell_type": "code",
   "execution_count": 26,
   "metadata": {
    "collapsed": false
   },
   "outputs": [
    {
     "name": "stdout",
     "output_type": "stream",
     "text": [
      "(1000, 784)\n"
     ]
    }
   ],
   "source": [
    "#reshapint validation dataset\n",
    "nsamples, nx, ny = valid_dataset.shape\n",
    "valid_dataset_reshaped = valid_dataset.reshape((nsamples,nx*ny))\n",
    "print (valid_dataset_reshaped.shape)"
   ]
  },
  {
   "cell_type": "code",
   "execution_count": 30,
   "metadata": {
    "collapsed": false
   },
   "outputs": [
    {
     "name": "stdout",
     "output_type": "stream",
     "text": [
      "0.804\n"
     ]
    }
   ],
   "source": [
    "score = log_regr.score(valid_dataset_reshaped, valid_labels);\n",
    "print (score); #0.804"
   ]
  },
  {
   "cell_type": "code",
   "execution_count": 48,
   "metadata": {
    "collapsed": false
   },
   "outputs": [
    {
     "name": "stdout",
     "output_type": "stream",
     "text": [
      "(784,)\n"
     ]
    },
    {
     "data": {
      "image/png": "[encoded data removed]",
      "text/plain": [
       "<matplotlib.figure.Figure at 0x1a880c115c0>"
      ]
     },
     "metadata": {},
     "output_type": "display_data"
    }
   ],
   "source": [
    "#read a real inage and reshape it for predicting\n",
    "image_data_1 = imageio.imread(data_root + '\\\\notMNIST_large\\\\A\\\\a29ydW5pc2hpLnR0Zg==.png').astype(float);\n",
    "nx_img, ny_img = image_data_1.shape;\n",
    "reshaped_image = image_data_1.reshape(nx_img*ny_img);\n",
    "wtf = train_dataset_my[10];\n",
    "plt.imshow(image_data_1);\n",
    "#plt.imshow(reshaped_image); #doent work - good\n",
    "print (reshaped_image.shape);"
   ]
  },
  {
   "cell_type": "code",
   "execution_count": 62,
   "metadata": {
    "collapsed": false
   },
   "outputs": [
    {
     "name": "stdout",
     "output_type": "stream",
     "text": [
      "[6]\n",
      "g\n"
     ]
    },
    {
     "name": "stderr",
     "output_type": "stream",
     "text": [
      "C:\\Other_IT\\Anaconda\\lib\\site-packages\\ipykernel\\__main__.py:6: VisibleDeprecationWarning: converting an array with ndim > 0 to an index will result in an error in the future\n"
     ]
    }
   ],
   "source": [
    "res = reshaped_image.reshape(-784, 784);\n",
    "\n",
    "array_letters = ['a', 'b', 'c', 'd', 'e', 'f', 'g', 'h', 'i', 'j'];\n",
    "predicted = log_regr.predict(res);\n",
    "print (predicted);\n",
    "print (array_letters[predicted])"
   ]
  },
  {
   "cell_type": "code",
   "execution_count": 80,
   "metadata": {
    "collapsed": false
   },
   "outputs": [
    {
     "name": "stdout",
     "output_type": "stream",
     "text": [
      "(784,)\n"
     ]
    },
    {
     "data": {
      "image/png": "[encoded data removed]",
      "text/plain": [
       "<matplotlib.figure.Figure at 0x1a88532e358>"
      ]
     },
     "metadata": {},
     "output_type": "display_data"
    }
   ],
   "source": [
    "#read a real image and reshape it for predicting\n",
    "image_data_2 = imageio.imread(data_root + '\\\\imageio\\\\picle_B_9.png').astype(float);\n",
    "nx_img, ny_img = image_data_2.shape;\n",
    "reshaped_image_2 = image_data_2.reshape(nx_img*ny_img);\n",
    "plt.imshow(image_data_2);\n",
    "#plt.imshow(reshaped_image); #doesn't work - good\n",
    "print (reshaped_image_2.shape);"
   ]
  },
  {
   "cell_type": "code",
   "execution_count": 81,
   "metadata": {
    "collapsed": false
   },
   "outputs": [
    {
     "name": "stdout",
     "output_type": "stream",
     "text": [
      "[1]\n",
      "b\n"
     ]
    },
    {
     "name": "stderr",
     "output_type": "stream",
     "text": [
      "C:\\Other_IT\\Anaconda\\lib\\site-packages\\ipykernel\\__main__.py:4: VisibleDeprecationWarning: converting an array with ndim > 0 to an index will result in an error in the future\n"
     ]
    }
   ],
   "source": [
    "res_2 = reshaped_image_2.reshape(-784, 784);\n",
    "predicted_2 = log_regr.predict(res_2);\n",
    "print (predicted_2);\n",
    "print (array_letters[predicted_2])"
   ]
  },
  {
   "cell_type": "code",
   "execution_count": null,
   "metadata": {
    "collapsed": true
   },
   "outputs": [],
   "source": []
  }
 ],
 "metadata": {
  "celltoolbar": "Edit Metadata",
  "kernelspec": {
   "display_name": "Python 3",
   "language": "python",
   "name": "python3"
  },
  "language_info": {
   "codemirror_mode": {
    "name": "ipython",
    "version": 3
   },
   "file_extension": ".py",
   "mimetype": "text/x-python",
   "name": "python",
   "nbconvert_exporter": "python",
   "pygments_lexer": "ipython3",
   "version": "3.6.0"
  }
 },
 "nbformat": 4,
 "nbformat_minor": 2
}
