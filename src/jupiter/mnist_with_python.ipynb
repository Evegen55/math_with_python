{
 "cells": [
  {
   "cell_type": "code",
   "execution_count": 1,
   "metadata": {
    "collapsed": true
   },
   "outputs": [],
   "source": [
    "# Make sure you can import them before proceeding further.\n",
    "from __future__ import print_function\n",
    "import imageio\n",
    "import matplotlib.pyplot as plt\n",
    "import numpy as np\n",
    "import os\n",
    "import sys\n",
    "import tarfile\n",
    "import gzip\n",
    "import struct\n",
    "import time\n",
    "from IPython.display import display, Image\n",
    "from sklearn.linear_model import LogisticRegression\n",
    "from six.moves.urllib.request import urlretrieve\n",
    "from six.moves import cPickle as pickle\n",
    "\n",
    "# Config the matplotlib backend as plotting inline in IPython\n",
    "%matplotlib inline"
   ]
  },
  {
   "cell_type": "code",
   "execution_count": 2,
   "metadata": {
    "collapsed": true
   },
   "outputs": [],
   "source": [
    "#MNIST urls\n",
    "url_base = 'http://yann.lecun.com/exdb/mnist/'\n",
    "training_set_images = 'train-images-idx3-ubyte.gz' #size in bytes 9912422\n",
    "training_set_labels = 'train-labels-idx1-ubyte.gz' #size in bytes 28881\n",
    "test_set_images = 't10k-images-idx3-ubyte.gz' #size in bytes 1648877\n",
    "test_set_labels = 't10k-labels-idx1-ubyte.gz' #size in bytes 4542\n",
    "last_percent_reported = None\n",
    "# Change me to store data elsewhere\n",
    "data_root = 'D:\\\\1_Workspaces\\\\UNDER_VCS\\\\github\\\\1_ML_NN\\\\python_with_math\\\\data'"
   ]
  },
  {
   "cell_type": "code",
   "execution_count": 3,
   "metadata": {
    "collapsed": true
   },
   "outputs": [],
   "source": [
    "\"\"\"A hook to report the progress of a download. This is mostly intended for users with\n",
    "   slow internet connections. Reports every 5% change in download progress.\n",
    "\"\"\"\n",
    "def download_progress_hook(count, blockSize, totalSize):  \n",
    "  global last_percent_reported\n",
    "  percent = int(count * blockSize * 100 / totalSize)\n",
    "  if last_percent_reported != percent:\n",
    "    if percent % 5 == 0:\n",
    "      sys.stdout.write(\"%s%%\" % percent)\n",
    "      sys.stdout.flush()\n",
    "    else:\n",
    "      sys.stdout.write(\".\")\n",
    "      sys.stdout.flush()\n",
    "      \n",
    "    last_percent_reported = percent"
   ]
  },
  {
   "cell_type": "code",
   "execution_count": 4,
   "metadata": {
    "collapsed": true
   },
   "outputs": [],
   "source": [
    "def maybe_download(filename, expected_bytes, force=False):\n",
    "  \"\"\"Download a file if not present, and make sure it's the right size.\"\"\"\n",
    "  dest_filename = os.path.join(data_root, filename)\n",
    "  if force or not os.path.exists(dest_filename):\n",
    "    print('Attempting to download:', filename) \n",
    "    filename, _ = urlretrieve(url_base + filename, dest_filename, reporthook=download_progress_hook)\n",
    "    print('\\nDownload Complete!')\n",
    "  statinfo = os.stat(dest_filename)\n",
    "  if statinfo.st_size == expected_bytes:\n",
    "    print('Found and verified', dest_filename)\n",
    "  else:\n",
    "    raise Exception(\n",
    "      'Failed to verify ' + dest_filename + '. Can you get to it with a browser?')\n",
    "  return dest_filename"
   ]
  },
  {
   "cell_type": "code",
   "execution_count": 5,
   "metadata": {
    "collapsed": false
   },
   "outputs": [
    {
     "name": "stdout",
     "output_type": "stream",
     "text": [
      "Found and verified D:\\1_Workspaces\\UNDER_VCS\\github\\1_ML_NN\\python_with_math\\data\\train-images-idx3-ubyte.gz\n",
      "Found and verified D:\\1_Workspaces\\UNDER_VCS\\github\\1_ML_NN\\python_with_math\\data\\train-labels-idx1-ubyte.gz\n",
      "Found and verified D:\\1_Workspaces\\UNDER_VCS\\github\\1_ML_NN\\python_with_math\\data\\t10k-images-idx3-ubyte.gz\n",
      "Found and verified D:\\1_Workspaces\\UNDER_VCS\\github\\1_ML_NN\\python_with_math\\data\\t10k-labels-idx1-ubyte.gz\n"
     ]
    }
   ],
   "source": [
    "train_filename_images = maybe_download(training_set_images, 9912422)\n",
    "train_filename_labels = maybe_download(training_set_labels, 28881)\n",
    "test_filename_images = maybe_download(test_set_images, 1648877)\n",
    "test_filename_labels = maybe_download(test_set_labels, 4542)"
   ]
  },
  {
   "cell_type": "code",
   "execution_count": 6,
   "metadata": {
    "collapsed": true
   },
   "outputs": [],
   "source": [
    "# read labels to an array\n",
    "def make_labels_array_from_file(file_gzipped):\n",
    "    # it sets byte stream from LABELS FOR TRAINING to a right position\n",
    "    gzipFile_TrainLabels = gzip.open(file_gzipped)\n",
    "    magicNumberLabels = int.from_bytes(gzipFile_TrainLabels.read(4), byteorder='big') #2049\n",
    "    numberOfLabels = int.from_bytes(gzipFile_TrainLabels.read(4), byteorder='big') #60000\n",
    "    print ('magicNumberLabels = ', magicNumberLabels, '\\t','numberOfLabels = ', numberOfLabels)\n",
    "    labels = np.ndarray(shape=(numberOfLabels, 1), dtype=np.int32)\n",
    "    for i in range (numberOfLabels):\n",
    "        #read label\n",
    "        #label = 0\n",
    "        label = int.from_bytes(gzipFile_TrainLabels.read(1), byteorder='big')\n",
    "        labels[i, :] = label\n",
    "    gzipFile_TrainLabels.close()    \n",
    "    return labels"
   ]
  },
  {
   "cell_type": "code",
   "execution_count": 7,
   "metadata": {
    "collapsed": false
   },
   "outputs": [
    {
     "name": "stdout",
     "output_type": "stream",
     "text": [
      "magicNumberLabels =  2049 \t numberOfLabels =  60000\n",
      "time spent for creating array of labels to train =  0.25873637199401855  s\n",
      "\n",
      "\n",
      "magicNumberLabels =  2049 \t numberOfLabels =  10000\n",
      "time spent for creating array of labels to train =  0.0551607608795166  s\n"
     ]
    }
   ],
   "source": [
    "start_l = time.time()\n",
    "labels_train = make_labels_array_from_file(train_filename_labels)\n",
    "end_l = time.time()\n",
    "print('time spent for creating array of labels to train = ', end_l - start_l, ' s')\n",
    "print('\\n')\n",
    "start_l2 = time.time()\n",
    "labels_test = make_labels_array_from_file(test_filename_labels)\n",
    "end_l2 = time.time()\n",
    "print('time spent for creating array of labels to train = ', end_l2 - start_l2, ' s')"
   ]
  },
  {
   "cell_type": "code",
   "execution_count": 8,
   "metadata": {
    "collapsed": false
   },
   "outputs": [
    {
     "name": "stdout",
     "output_type": "stream",
     "text": [
      "labels_train.shape =  (60000, 1)\n",
      "[5]\n",
      "[0]\n",
      "[4]\n",
      "[1]\n",
      "[9]\n",
      "labels_test.shape =  (10000, 1)\n",
      "[7]\n",
      "[2]\n",
      "[1]\n",
      "[0]\n",
      "[4]\n"
     ]
    }
   ],
   "source": [
    "# check arrays\n",
    "print ('labels_train.shape = ', labels_train.shape)\n",
    "for i in range (5):\n",
    "    print (labels_train[i])\n",
    "print ('labels_test.shape = ', labels_test.shape)\n",
    "for i in range (5):\n",
    "    print (labels_test[i])"
   ]
  },
  {
   "cell_type": "code",
   "execution_count": 9,
   "metadata": {
    "collapsed": true
   },
   "outputs": [],
   "source": [
    "NUMBER_FEATURES = 784; #square 28*28 as from data set -> array 784 items\n",
    "# read images to an array\n",
    "def make_images_array_from_file(file_gzipped):\n",
    "    #it sets byte stream from IMAGES FOR TRAINING to a right position\n",
    "    gzipFile_TrainImages = gzip.open(file_gzipped)\n",
    "    magicNumberImages = int.from_bytes(gzipFile_TrainImages.read(4), byteorder='big') #2051\n",
    "    numberOfImages = int.from_bytes(gzipFile_TrainImages.read(4), byteorder='big') #60000\n",
    "    numberOfRows = int.from_bytes(gzipFile_TrainImages.read(4), byteorder='big') #28\n",
    "    numberOfColumns = int.from_bytes(gzipFile_TrainImages.read(4), byteorder='big') #28\n",
    "    print (magicNumberImages, '\\t',numberOfImages, '\\t', numberOfRows, '\\t', numberOfColumns)\n",
    "    # then, it reads the rest of the file to an array    \n",
    "    \n",
    "    #it creates n-dim array with picture as 784 features and an appropriate label\n",
    "    datasetMnist = np.ndarray(shape=(numberOfImages, NUMBER_FEATURES), dtype=np.int32) #it creates a 2d array of 32-bit integers\n",
    "    \n",
    "    for i in range (numberOfImages):\n",
    "        #read and create array for 784 features\n",
    "        imagePixelsAsFeatures = np.ndarray(shape=(NUMBER_FEATURES), dtype=np.int32)\n",
    "        for index in range(NUMBER_FEATURES):\n",
    "            imagePixelsAsFeatures[index] = int.from_bytes(gzipFile_TrainImages.read(1), byteorder='big')        \n",
    "        # put label and features to a dataset\n",
    "        datasetMnist[i, :] = imagePixelsAsFeatures    \n",
    "    gzipFile_TrainImages.close()\n",
    "    return datasetMnist    "
   ]
  },
  {
   "cell_type": "code",
   "execution_count": 10,
   "metadata": {
    "collapsed": false
   },
   "outputs": [
    {
     "name": "stdout",
     "output_type": "stream",
     "text": [
      "2051 \t 60000 \t 28 \t 28\n",
      "time spent for creating array of images to train =  106.32021355628967  s\n",
      "\n",
      "\n",
      "2051 \t 10000 \t 28 \t 28\n",
      "time spent for creating array of images to test =  17.015970945358276  s\n"
     ]
    }
   ],
   "source": [
    "start_i = time.time()\n",
    "images_train = make_images_array_from_file(train_filename_images)\n",
    "end_i = time.time()\n",
    "print('time spent for creating array of images to train = ', end_i - start_i, ' s')\n",
    "print ('\\n')\n",
    "start_i = time.time()\n",
    "images_test = make_images_array_from_file(test_filename_images)\n",
    "end_i = time.time()\n",
    "print('time spent for creating array of images to test = ', end_i - start_i, ' s')"
   ]
  },
  {
   "cell_type": "code",
   "execution_count": 11,
   "metadata": {
    "collapsed": false
   },
   "outputs": [
    {
     "name": "stdout",
     "output_type": "stream",
     "text": [
      "(60000, 784)\n",
      "[  0   0   0   0   0   0   0   0   0   0   0   0   0   0   0   0   0   0\n",
      "   0   0   0   0   0   0   0   0   0   0   0   0   0   0   0   0   0   0\n",
      "   0   0   0   0   0   0   0   0   0   0   0   0   0   0   0   0   0   0\n",
      "   0   0   0   0   0   0   0   0   0   0   0   0   0   0   0   0   0   0\n",
      "   0   0   0   0   0   0   0   0   0   0   0   0   0   0   0   0   0   0\n",
      "   0   0   0   0   0   0   0   0   0   0   0   0   0   0   0   0   0   0\n",
      "   0   0   0   0   0   0   0   0   0   0   0   0   0   0   0   0   0   0\n",
      "   0   0   0   0   0   0   0   0   0   0   0   0   0   0   0   0   0   0\n",
      "   0   0   0   0   0   0   0   0   3  18  18  18 126 136 175  26 166 255\n",
      " 247 127   0   0   0   0   0   0   0   0   0   0   0   0  30  36  94 154\n",
      " 170 253 253 253 253 253 225 172 253 242 195  64   0   0   0   0   0   0\n",
      "   0   0   0   0   0  49 238 253 253 253 253 253 253 253 253 251  93  82\n",
      "  82  56  39   0   0   0   0   0   0   0   0   0   0   0   0  18 219 253\n",
      " 253 253 253 253 198 182 247 241   0   0   0   0   0   0   0   0   0   0\n",
      "   0   0   0   0   0   0   0   0  80 156 107 253 253 205  11   0  43 154\n",
      "   0   0   0   0   0   0   0   0   0   0   0   0   0   0   0   0   0   0\n",
      "   0  14   1 154 253  90   0   0   0   0   0   0   0   0   0   0   0   0\n",
      "   0   0   0   0   0   0   0   0   0   0   0   0   0 139 253 190   2   0\n",
      "   0   0   0   0   0   0   0   0   0   0   0   0   0   0   0   0   0   0\n",
      "   0   0   0   0   0  11 190 253  70   0   0   0   0   0   0   0   0   0\n",
      "   0   0   0   0   0   0   0   0   0   0   0   0   0   0   0   0  35 241\n",
      " 225 160 108   1   0   0   0   0   0   0   0   0   0   0   0   0   0   0\n",
      "   0   0   0   0   0   0   0   0   0  81 240 253 253 119  25   0   0   0\n",
      "   0   0   0   0   0   0   0   0   0   0   0   0   0   0   0   0   0   0\n",
      "   0   0  45 186 253 253 150  27   0   0   0   0   0   0   0   0   0   0\n",
      "   0   0   0   0   0   0   0   0   0   0   0   0   0  16  93 252 253 187\n",
      "   0   0   0   0   0   0   0   0   0   0   0   0   0   0   0   0   0   0\n",
      "   0   0   0   0   0   0   0 249 253 249  64   0   0   0   0   0   0   0\n",
      "   0   0   0   0   0   0   0   0   0   0   0   0   0   0  46 130 183 253\n",
      " 253 207   2   0   0   0   0   0   0   0   0   0   0   0   0   0   0   0\n",
      "   0   0   0   0  39 148 229 253 253 253 250 182   0   0   0   0   0   0\n",
      "   0   0   0   0   0   0   0   0   0   0   0   0  24 114 221 253 253 253\n",
      " 253 201  78   0   0   0   0   0   0   0   0   0   0   0   0   0   0   0\n",
      "   0   0  23  66 213 253 253 253 253 198  81   2   0   0   0   0   0   0\n",
      "   0   0   0   0   0   0   0   0   0   0  18 171 219 253 253 253 253 195\n",
      "  80   9   0   0   0   0   0   0   0   0   0   0   0   0   0   0   0   0\n",
      "  55 172 226 253 253 253 253 244 133  11   0   0   0   0   0   0   0   0\n",
      "   0   0   0   0   0   0   0   0   0   0 136 253 253 253 212 135 132  16\n",
      "   0   0   0   0   0   0   0   0   0   0   0   0   0   0   0   0   0   0\n",
      "   0   0   0   0   0   0   0   0   0   0   0   0   0   0   0   0   0   0\n",
      "   0   0   0   0   0   0   0   0   0   0   0   0   0   0   0   0   0   0\n",
      "   0   0   0   0   0   0   0   0   0   0   0   0   0   0   0   0   0   0\n",
      "   0   0   0   0   0   0   0   0   0   0   0   0   0   0   0   0   0   0\n",
      "   0   0   0   0   0   0   0   0   0   0]\n"
     ]
    }
   ],
   "source": [
    "# check array\n",
    "print (images_train.shape)\n",
    "image_five = images_train[0]\n",
    "print (image_five)\n",
    "# for i in range (10):\n",
    "#     print (images_train[i])"
   ]
  },
  {
   "cell_type": "code",
   "execution_count": 12,
   "metadata": {
    "collapsed": false
   },
   "outputs": [
    {
     "name": "stdout",
     "output_type": "stream",
     "text": [
      "[[  0   0   0   0   0   0   0   0   0   0   0   0   0   0   0   0   0   0\n",
      "    0   0   0   0   0   0   0   0   0   0]\n",
      " [  0   0   0   0   0   0   0   0   0   0   0   0   0   0   0   0   0   0\n",
      "    0   0   0   0   0   0   0   0   0   0]\n",
      " [  0   0   0   0   0   0   0   0   0   0   0   0   0   0   0   0   0   0\n",
      "    0   0   0   0   0   0   0   0   0   0]\n",
      " [  0   0   0   0   0   0   0   0   0   0   0   0   0   0   0   0   0   0\n",
      "    0   0   0   0   0   0   0   0   0   0]\n",
      " [  0   0   0   0   0   0   0   0   0   0   0   0   0   0   0   0   0   0\n",
      "    0   0   0   0   0   0   0   0   0   0]\n",
      " [  0   0   0   0   0   0   0   0   0   0   0   0   3  18  18  18 126 136\n",
      "  175  26 166 255 247 127   0   0   0   0]\n",
      " [  0   0   0   0   0   0   0   0  30  36  94 154 170 253 253 253 253 253\n",
      "  225 172 253 242 195  64   0   0   0   0]\n",
      " [  0   0   0   0   0   0   0  49 238 253 253 253 253 253 253 253 253 251\n",
      "   93  82  82  56  39   0   0   0   0   0]\n",
      " [  0   0   0   0   0   0   0  18 219 253 253 253 253 253 198 182 247 241\n",
      "    0   0   0   0   0   0   0   0   0   0]\n",
      " [  0   0   0   0   0   0   0   0  80 156 107 253 253 205  11   0  43 154\n",
      "    0   0   0   0   0   0   0   0   0   0]\n",
      " [  0   0   0   0   0   0   0   0   0  14   1 154 253  90   0   0   0   0\n",
      "    0   0   0   0   0   0   0   0   0   0]\n",
      " [  0   0   0   0   0   0   0   0   0   0   0 139 253 190   2   0   0   0\n",
      "    0   0   0   0   0   0   0   0   0   0]\n",
      " [  0   0   0   0   0   0   0   0   0   0   0  11 190 253  70   0   0   0\n",
      "    0   0   0   0   0   0   0   0   0   0]\n",
      " [  0   0   0   0   0   0   0   0   0   0   0   0  35 241 225 160 108   1\n",
      "    0   0   0   0   0   0   0   0   0   0]\n",
      " [  0   0   0   0   0   0   0   0   0   0   0   0   0  81 240 253 253 119\n",
      "   25   0   0   0   0   0   0   0   0   0]\n",
      " [  0   0   0   0   0   0   0   0   0   0   0   0   0   0  45 186 253 253\n",
      "  150  27   0   0   0   0   0   0   0   0]\n",
      " [  0   0   0   0   0   0   0   0   0   0   0   0   0   0   0  16  93 252\n",
      "  253 187   0   0   0   0   0   0   0   0]\n",
      " [  0   0   0   0   0   0   0   0   0   0   0   0   0   0   0   0   0 249\n",
      "  253 249  64   0   0   0   0   0   0   0]\n",
      " [  0   0   0   0   0   0   0   0   0   0   0   0   0   0  46 130 183 253\n",
      "  253 207   2   0   0   0   0   0   0   0]\n",
      " [  0   0   0   0   0   0   0   0   0   0   0   0  39 148 229 253 253 253\n",
      "  250 182   0   0   0   0   0   0   0   0]\n",
      " [  0   0   0   0   0   0   0   0   0   0  24 114 221 253 253 253 253 201\n",
      "   78   0   0   0   0   0   0   0   0   0]\n",
      " [  0   0   0   0   0   0   0   0  23  66 213 253 253 253 253 198  81   2\n",
      "    0   0   0   0   0   0   0   0   0   0]\n",
      " [  0   0   0   0   0   0  18 171 219 253 253 253 253 195  80   9   0   0\n",
      "    0   0   0   0   0   0   0   0   0   0]\n",
      " [  0   0   0   0  55 172 226 253 253 253 253 244 133  11   0   0   0   0\n",
      "    0   0   0   0   0   0   0   0   0   0]\n",
      " [  0   0   0   0 136 253 253 253 212 135 132  16   0   0   0   0   0   0\n",
      "    0   0   0   0   0   0   0   0   0   0]\n",
      " [  0   0   0   0   0   0   0   0   0   0   0   0   0   0   0   0   0   0\n",
      "    0   0   0   0   0   0   0   0   0   0]\n",
      " [  0   0   0   0   0   0   0   0   0   0   0   0   0   0   0   0   0   0\n",
      "    0   0   0   0   0   0   0   0   0   0]\n",
      " [  0   0   0   0   0   0   0   0   0   0   0   0   0   0   0   0   0   0\n",
      "    0   0   0   0   0   0   0   0   0   0]]\n"
     ]
    },
    {
     "data": {
      "text/plain": [
       "<matplotlib.image.AxesImage at 0x223a2bd18d0>"
      ]
     },
     "execution_count": 12,
     "metadata": {},
     "output_type": "execute_result"
    },
    {
     "data": {
      "image/png": "[encoded data removed]",
      "text/plain": [
       "<matplotlib.figure.Figure at 0x2239588af60>"
      ]
     },
     "metadata": {},
     "output_type": "display_data"
    }
   ],
   "source": [
    "image_five_reshaped = images_train[0].reshape(28, 28)\n",
    "print (image_five_reshaped)\n",
    "plt.imshow(image_five_reshaped)"
   ]
  },
  {
   "cell_type": "code",
   "execution_count": 13,
   "metadata": {
    "collapsed": false
   },
   "outputs": [
    {
     "data": {
      "text/plain": [
       "<matplotlib.image.AxesImage at 0x223a2ec3048>"
      ]
     },
     "execution_count": 13,
     "metadata": {},
     "output_type": "execute_result"
    },
    {
     "data": {
      "image/png": "[encoded data removed]",
      "text/plain": [
       "<matplotlib.figure.Figure at 0x2239588c0b8>"
      ]
     },
     "metadata": {},
     "output_type": "display_data"
    }
   ],
   "source": [
    "image_from_test_reshaped = images_test[0].reshape(28, 28)\n",
    "plt.imshow(image_from_test_reshaped)"
   ]
  },
  {
   "cell_type": "code",
   "execution_count": 14,
   "metadata": {
    "collapsed": false
   },
   "outputs": [
    {
     "name": "stdout",
     "output_type": "stream",
     "text": [
      "[7]\n"
     ]
    }
   ],
   "source": [
    "print(labels_test[0])"
   ]
  },
  {
   "cell_type": "code",
   "execution_count": 15,
   "metadata": {
    "collapsed": false
   },
   "outputs": [
    {
     "name": "stderr",
     "output_type": "stream",
     "text": [
      "C:\\Other_IT\\Anaconda\\lib\\site-packages\\imageio\\core\\util.py:104: UserWarning: Conversion from int32 to uint8, range [0, 255]\n",
      "  'range [{2}, {3}]'.format(dtype_str, out_type.__name__, mi, ma))\n"
     ]
    }
   ],
   "source": [
    "#save a images\n",
    "imageio.imwrite(data_root + '\\\\extracted_from_mnist\\\\image_five' + '.png', image_five_reshaped[:])\n",
    "imageio.imwrite(data_root + '\\\\extracted_from_mnist\\\\image_seven' + '.png', image_from_test_reshaped[:])"
   ]
  },
  {
   "cell_type": "code",
   "execution_count": 16,
   "metadata": {
    "collapsed": true
   },
   "outputs": [],
   "source": [
    "#TODO dump the arrays to a file?\n",
    "#now we have:\n",
    "#labels_train\n",
    "#labels_test\n",
    "#images_train\n",
    "#images_test\n",
    "#image_five\n",
    "#image_five_reshaped\n",
    "#image_from_test_reshaped\n",
    "#it's time to create an train NN!\n",
    "\n",
    "log_regr = LogisticRegression(solver='sag', multi_class='ovr', n_jobs=1)"
   ]
  },
  {
   "cell_type": "code",
   "execution_count": 17,
   "metadata": {
    "collapsed": false
   },
   "outputs": [
    {
     "name": "stderr",
     "output_type": "stream",
     "text": [
      "C:\\Other_IT\\Anaconda\\lib\\site-packages\\sklearn\\utils\\validation.py:526: DataConversionWarning: A column-vector y was passed when a 1d array was expected. Please change the shape of y to (n_samples, ), for example using ravel().\n",
      "  y = column_or_1d(y, warn=True)\n",
      "C:\\Other_IT\\Anaconda\\lib\\site-packages\\sklearn\\linear_model\\sag.py:286: ConvergenceWarning: The max_iter was reached which means the coef_ did not converge\n",
      "  \"the coef_ did not converge\", ConvergenceWarning)\n"
     ]
    },
    {
     "name": "stdout",
     "output_type": "stream",
     "text": [
      "time spent for training NN =  544.4591064453125  s\n"
     ]
    }
   ],
   "source": [
    "# it can get lots of time to rain Neural Network\n",
    "start_lr = time.time()\n",
    "log_regr.fit(images_train,labels_train)\n",
    "end_lr = time.time()\n",
    "print ('time spent for training NN = ', end_lr - start_lr, ' s') \n",
    "# DataConversionWarning A column-vector y was passed when a 1d array was expected. \n",
    "# Please change the shape of y to (n_samples, ), for example using ravel().\n",
    "# y = column_or_1d(y, warn=True)"
   ]
  },
  {
   "cell_type": "code",
   "execution_count": 18,
   "metadata": {
    "collapsed": false
   },
   "outputs": [
    {
     "name": "stdout",
     "output_type": "stream",
     "text": [
      "0.9183\n"
     ]
    }
   ],
   "source": [
    "score = log_regr.score(images_test,labels_test)\n",
    "print(score) # 0.9182 for LogisticRegression(solver='sag', multi_class='ovr', n_jobs=1)"
   ]
  },
  {
   "cell_type": "code",
   "execution_count": 19,
   "metadata": {
    "collapsed": false
   },
   "outputs": [
    {
     "name": "stdout",
     "output_type": "stream",
     "text": [
      "(28, 28)\n"
     ]
    }
   ],
   "source": [
    "# PREDICT image with 5\n",
    "my_letter_gray = data_root + '\\\\extracted_from_mnist\\\\image_five' + '.png'\n",
    "image_five_data_gray = imageio.imread(my_letter_gray)\n",
    "print(image_five_data_gray.shape)"
   ]
  },
  {
   "cell_type": "code",
   "execution_count": 20,
   "metadata": {
    "collapsed": false
   },
   "outputs": [
    {
     "name": "stdout",
     "output_type": "stream",
     "text": [
      "(784,)\n"
     ]
    }
   ],
   "source": [
    "nx_img, ny_img = image_five_data_gray.shape\n",
    "reshaped_image_five_gray = image_five_data_gray.reshape(nx_img*ny_img)\n",
    "print (reshaped_image_five_gray.shape)"
   ]
  },
  {
   "cell_type": "code",
   "execution_count": 21,
   "metadata": {
    "collapsed": false
   },
   "outputs": [],
   "source": [
    "reshaped_2d_array = reshaped_image_five_gray.reshape(-784, 784)\n",
    "predicted = log_regr.predict(reshaped_2d_array)"
   ]
  },
  {
   "cell_type": "code",
   "execution_count": 22,
   "metadata": {
    "collapsed": false
   },
   "outputs": [
    {
     "name": "stdout",
     "output_type": "stream",
     "text": [
      "[5]\n"
     ]
    }
   ],
   "source": [
    "print (predicted) # 5"
   ]
  },
  {
   "cell_type": "code",
   "execution_count": 23,
   "metadata": {
    "collapsed": false
   },
   "outputs": [
    {
     "name": "stdout",
     "output_type": "stream",
     "text": [
      "(28, 28)\n",
      "(784,)\n",
      "[7]\n"
     ]
    },
    {
     "data": {
      "image/png": "[encoded data removed]",
      "text/plain": [
       "<matplotlib.figure.Figure at 0x223b96957b8>"
      ]
     },
     "metadata": {},
     "output_type": "display_data"
    }
   ],
   "source": [
    "# PREDICT image with 7\n",
    "my_7_gray = data_root + '\\\\extracted_from_mnist\\\\image_seven' + '.png'\n",
    "my_7_gray_data = imageio.imread(my_7_gray)\n",
    "plt.imshow(my_7_gray_data)\n",
    "print(my_7_gray_data.shape)\n",
    "nx_img_7, ny_img_7 = my_7_gray_data.shape\n",
    "reshaped_my_7_gray_data = my_7_gray_data.reshape(nx_img_7*ny_img_7)\n",
    "print (reshaped_my_7_gray_data.shape)\n",
    "reshaped_2d_array_7 = reshaped_my_7_gray_data.reshape(-784, 784)\n",
    "predicted_7 = log_regr.predict(reshaped_2d_array_7)\n",
    "print (predicted_7) # 7"
   ]
  },
  {
   "cell_type": "code",
   "execution_count": null,
   "metadata": {
    "collapsed": true
   },
   "outputs": [],
   "source": []
  }
 ],
 "metadata": {
  "kernelspec": {
   "display_name": "Python 3",
   "language": "python",
   "name": "python3"
  },
  "language_info": {
   "codemirror_mode": {
    "name": "ipython",
    "version": 3
   },
   "file_extension": ".py",
   "mimetype": "text/x-python",
   "name": "python",
   "nbconvert_exporter": "python",
   "pygments_lexer": "ipython3",
   "version": "3.6.0"
  }
 },
 "nbformat": 4,
 "nbformat_minor": 2
}
