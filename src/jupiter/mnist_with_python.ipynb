{
 "cells": [
  {
   "cell_type": "code",
   "execution_count": 1,
   "metadata": {
    "collapsed": true
   },
   "outputs": [],
   "source": [
    "# Make sure you can import them before proceeding further.\n",
    "from __future__ import print_function\n",
    "import imageio\n",
    "import matplotlib.pyplot as plt\n",
    "import numpy as np\n",
    "import os\n",
    "import sys\n",
    "import tarfile\n",
    "import gzip\n",
    "import struct\n",
    "from IPython.display import display, Image\n",
    "from sklearn.linear_model import LogisticRegression\n",
    "from six.moves.urllib.request import urlretrieve\n",
    "from six.moves import cPickle as pickle\n",
    "\n",
    "# Config the matplotlib backend as plotting inline in IPython\n",
    "%matplotlib inline"
   ]
  },
  {
   "cell_type": "code",
   "execution_count": 2,
   "metadata": {
    "collapsed": true
   },
   "outputs": [],
   "source": [
    "#MNIST urls\n",
    "url_base = 'http://yann.lecun.com/exdb/mnist/'\n",
    "training_set_images = 'train-images-idx3-ubyte.gz' #size in bytes 9912422\n",
    "training_set_labels = 'train-labels-idx1-ubyte.gz' #size in bytes 28881\n",
    "test_set_images = 't10k-images-idx3-ubyte.gz' #size in bytes 1648877\n",
    "test_set_labels = 't10k-labels-idx1-ubyte.gz' #size in bytes 4542\n",
    "last_percent_reported = None\n",
    "# Change me to store data elsewhere\n",
    "data_root = 'D:\\\\10_work_spaces\\\\1_Under_VCS\\\\github\\\\4_NN_ML\\\\data_for_trainings'"
   ]
  },
  {
   "cell_type": "code",
   "execution_count": 3,
   "metadata": {
    "collapsed": true
   },
   "outputs": [],
   "source": [
    "\"\"\"A hook to report the progress of a download. This is mostly intended for users with\n",
    "   slow internet connections. Reports every 5% change in download progress.\n",
    "\"\"\"\n",
    "def download_progress_hook(count, blockSize, totalSize):  \n",
    "  global last_percent_reported\n",
    "  percent = int(count * blockSize * 100 / totalSize)\n",
    "  if last_percent_reported != percent:\n",
    "    if percent % 5 == 0:\n",
    "      sys.stdout.write(\"%s%%\" % percent)\n",
    "      sys.stdout.flush()\n",
    "    else:\n",
    "      sys.stdout.write(\".\")\n",
    "      sys.stdout.flush()\n",
    "      \n",
    "    last_percent_reported = percent"
   ]
  },
  {
   "cell_type": "code",
   "execution_count": 4,
   "metadata": {
    "collapsed": true
   },
   "outputs": [],
   "source": [
    "def maybe_download(filename, expected_bytes, force=False):\n",
    "  \"\"\"Download a file if not present, and make sure it's the right size.\"\"\"\n",
    "  dest_filename = os.path.join(data_root, filename)\n",
    "  if force or not os.path.exists(dest_filename):\n",
    "    print('Attempting to download:', filename) \n",
    "    filename, _ = urlretrieve(url_base + filename, dest_filename, reporthook=download_progress_hook)\n",
    "    print('\\nDownload Complete!')\n",
    "  statinfo = os.stat(dest_filename)\n",
    "  if statinfo.st_size == expected_bytes:\n",
    "    print('Found and verified', dest_filename)\n",
    "  else:\n",
    "    raise Exception(\n",
    "      'Failed to verify ' + dest_filename + '. Can you get to it with a browser?')\n",
    "  return dest_filename"
   ]
  },
  {
   "cell_type": "code",
   "execution_count": 5,
   "metadata": {},
   "outputs": [
    {
     "name": "stdout",
     "output_type": "stream",
     "text": [
      "Found and verified D:\\10_work_spaces\\1_Under_VCS\\github\\4_NN_ML\\data_for_trainings\\train-images-idx3-ubyte.gz\n",
      "Found and verified D:\\10_work_spaces\\1_Under_VCS\\github\\4_NN_ML\\data_for_trainings\\train-labels-idx1-ubyte.gz\n",
      "Found and verified D:\\10_work_spaces\\1_Under_VCS\\github\\4_NN_ML\\data_for_trainings\\t10k-images-idx3-ubyte.gz\n",
      "Found and verified D:\\10_work_spaces\\1_Under_VCS\\github\\4_NN_ML\\data_for_trainings\\t10k-labels-idx1-ubyte.gz\n"
     ]
    }
   ],
   "source": [
    "train_filename_images = maybe_download(training_set_images, 9912422)\n",
    "train_filename_labels = maybe_download(training_set_labels, 28881)\n",
    "test_filename_images = maybe_download(test_set_images, 1648877)\n",
    "test_filename_labels = maybe_download(test_set_labels, 4542)"
   ]
  },
  {
   "cell_type": "code",
   "execution_count": 6,
   "metadata": {},
   "outputs": [],
   "source": [
    "# read labels to an array\n",
    "def make_labels_array_from_file():\n",
    "    # it sets byte stream from LABELS FOR TRAINING to a right position\n",
    "    gzipFile_TrainLabels = gzip.open(train_filename_labels)\n",
    "    magicNumberLabels = int.from_bytes(gzipFile_TrainLabels.read(4), byteorder='big') #2049\n",
    "    numberOfLabels = int.from_bytes(gzipFile_TrainLabels.read(4), byteorder='big') #60000\n",
    "    print ('magicNumberLabels = ', magicNumberLabels, '\\t','numberOfLabels = ', numberOfLabels)\n",
    "    labels = np.ndarray(shape=(numberOfLabels, 1), dtype=np.int32)\n",
    "    for i in range (numberOfLabels):\n",
    "        #read label\n",
    "        #label = 0\n",
    "        label = int.from_bytes(gzipFile_TrainLabels.read(1), byteorder='big')\n",
    "        labels[i, :] = label\n",
    "    gzipFile_TrainLabels.close()    \n",
    "    return labels"
   ]
  },
  {
   "cell_type": "code",
   "execution_count": 7,
   "metadata": {},
   "outputs": [
    {
     "name": "stdout",
     "output_type": "stream",
     "text": [
      "magicNumberLabels =  2049 \t numberOfLabels =  60000\n"
     ]
    }
   ],
   "source": [
    "labels_train = make_labels_array_from_file()"
   ]
  },
  {
   "cell_type": "code",
   "execution_count": 8,
   "metadata": {},
   "outputs": [
    {
     "name": "stdout",
     "output_type": "stream",
     "text": [
      "(60000, 1)\n",
      "[5]\n",
      "[0]\n",
      "[4]\n",
      "[1]\n",
      "[9]\n",
      "[2]\n",
      "[1]\n",
      "[3]\n",
      "[1]\n",
      "[4]\n"
     ]
    }
   ],
   "source": [
    "# check array\n",
    "print (labels_train.shape)\n",
    "for i in range (10):\n",
    "    print (labels_train[i])"
   ]
  },
  {
   "cell_type": "code",
   "execution_count": 9,
   "metadata": {},
   "outputs": [],
   "source": [
    "NUMBER_FEATURES = 784; #square 28*28 as from data set -> array 784 items\n",
    "# read images to an array\n",
    "def make_images_array_from_file():\n",
    "    #it sets byte stream from IMAGES FOR TRAINING to a right position\n",
    "    gzipFile_TrainImages = gzip.open(train_filename_images)\n",
    "    magicNumberImages = int.from_bytes(gzipFile_TrainImages.read(4), byteorder='big') #2051\n",
    "    numberOfImages = int.from_bytes(gzipFile_TrainImages.read(4), byteorder='big') #60000\n",
    "    numberOfRows = int.from_bytes(gzipFile_TrainImages.read(4), byteorder='big') #28\n",
    "    numberOfColumns = int.from_bytes(gzipFile_TrainImages.read(4), byteorder='big') #28\n",
    "    print (magicNumberImages, '\\t',numberOfImages, '\\t', numberOfRows, '\\t', numberOfColumns)\n",
    "    # then, it reads the rest of the file to an array    \n",
    "    \n",
    "    #it creates n-dim array with picture as 784 features and an appropriate label\n",
    "    datasetMnist = np.ndarray(shape=(numberOfImages, NUMBER_FEATURES), dtype=np.int32) #it creates a 2d array of 32-bit integers\n",
    "    \n",
    "    for i in range (numberOfImages):\n",
    "        #read and create array for 784 features\n",
    "        imagePixelsAsFeatures = np.ndarray(shape=(NUMBER_FEATURES), dtype=np.int32)\n",
    "        for index in range(NUMBER_FEATURES):\n",
    "            imagePixelsAsFeatures[index] = int.from_bytes(gzipFile_TrainImages.read(1), byteorder='big')        \n",
    "        # put label and features to a dataset\n",
    "        datasetMnist[i, :] = imagePixelsAsFeatures    \n",
    "    \n",
    "    return datasetMnist    "
   ]
  },
  {
   "cell_type": "code",
   "execution_count": 10,
   "metadata": {},
   "outputs": [
    {
     "name": "stdout",
     "output_type": "stream",
     "text": [
      "2051 \t 60000 \t 28 \t 28\n"
     ]
    }
   ],
   "source": [
    "images_train = make_images_array_from_file()"
   ]
  },
  {
   "cell_type": "code",
   "execution_count": 11,
   "metadata": {},
   "outputs": [
    {
     "name": "stdout",
     "output_type": "stream",
     "text": [
      "(60000, 784)\n",
      "[  0   0   0   0   0   0   0   0   0   0   0   0   0   0   0   0   0   0\n",
      "   0   0   0   0   0   0   0   0   0   0   0   0   0   0   0   0   0   0\n",
      "   0   0   0   0   0   0   0   0   0   0   0   0   0   0   0   0   0   0\n",
      "   0   0   0   0   0   0   0   0   0   0   0   0   0   0   0   0   0   0\n",
      "   0   0   0   0   0   0   0   0   0   0   0   0   0   0   0   0   0   0\n",
      "   0   0   0   0   0   0   0   0   0   0   0   0   0   0   0   0   0   0\n",
      "   0   0   0   0   0   0   0   0   0   0   0   0   0   0   0   0   0   0\n",
      "   0   0   0   0   0   0   0   0   0   0   0   0   0   0   0   0   0   0\n",
      "   0   0   0   0   0   0   0   0   3  18  18  18 126 136 175  26 166 255\n",
      " 247 127   0   0   0   0   0   0   0   0   0   0   0   0  30  36  94 154\n",
      " 170 253 253 253 253 253 225 172 253 242 195  64   0   0   0   0   0   0\n",
      "   0   0   0   0   0  49 238 253 253 253 253 253 253 253 253 251  93  82\n",
      "  82  56  39   0   0   0   0   0   0   0   0   0   0   0   0  18 219 253\n",
      " 253 253 253 253 198 182 247 241   0   0   0   0   0   0   0   0   0   0\n",
      "   0   0   0   0   0   0   0   0  80 156 107 253 253 205  11   0  43 154\n",
      "   0   0   0   0   0   0   0   0   0   0   0   0   0   0   0   0   0   0\n",
      "   0  14   1 154 253  90   0   0   0   0   0   0   0   0   0   0   0   0\n",
      "   0   0   0   0   0   0   0   0   0   0   0   0   0 139 253 190   2   0\n",
      "   0   0   0   0   0   0   0   0   0   0   0   0   0   0   0   0   0   0\n",
      "   0   0   0   0   0  11 190 253  70   0   0   0   0   0   0   0   0   0\n",
      "   0   0   0   0   0   0   0   0   0   0   0   0   0   0   0   0  35 241\n",
      " 225 160 108   1   0   0   0   0   0   0   0   0   0   0   0   0   0   0\n",
      "   0   0   0   0   0   0   0   0   0  81 240 253 253 119  25   0   0   0\n",
      "   0   0   0   0   0   0   0   0   0   0   0   0   0   0   0   0   0   0\n",
      "   0   0  45 186 253 253 150  27   0   0   0   0   0   0   0   0   0   0\n",
      "   0   0   0   0   0   0   0   0   0   0   0   0   0  16  93 252 253 187\n",
      "   0   0   0   0   0   0   0   0   0   0   0   0   0   0   0   0   0   0\n",
      "   0   0   0   0   0   0   0 249 253 249  64   0   0   0   0   0   0   0\n",
      "   0   0   0   0   0   0   0   0   0   0   0   0   0   0  46 130 183 253\n",
      " 253 207   2   0   0   0   0   0   0   0   0   0   0   0   0   0   0   0\n",
      "   0   0   0   0  39 148 229 253 253 253 250 182   0   0   0   0   0   0\n",
      "   0   0   0   0   0   0   0   0   0   0   0   0  24 114 221 253 253 253\n",
      " 253 201  78   0   0   0   0   0   0   0   0   0   0   0   0   0   0   0\n",
      "   0   0  23  66 213 253 253 253 253 198  81   2   0   0   0   0   0   0\n",
      "   0   0   0   0   0   0   0   0   0   0  18 171 219 253 253 253 253 195\n",
      "  80   9   0   0   0   0   0   0   0   0   0   0   0   0   0   0   0   0\n",
      "  55 172 226 253 253 253 253 244 133  11   0   0   0   0   0   0   0   0\n",
      "   0   0   0   0   0   0   0   0   0   0 136 253 253 253 212 135 132  16\n",
      "   0   0   0   0   0   0   0   0   0   0   0   0   0   0   0   0   0   0\n",
      "   0   0   0   0   0   0   0   0   0   0   0   0   0   0   0   0   0   0\n",
      "   0   0   0   0   0   0   0   0   0   0   0   0   0   0   0   0   0   0\n",
      "   0   0   0   0   0   0   0   0   0   0   0   0   0   0   0   0   0   0\n",
      "   0   0   0   0   0   0   0   0   0   0   0   0   0   0   0   0   0   0\n",
      "   0   0   0   0   0   0   0   0   0   0]\n"
     ]
    }
   ],
   "source": [
    "# check array\n",
    "print (images_train.shape)\n",
    "print (images_train[0])\n",
    "# for i in range (10):\n",
    "#     print (images_train[i])"
   ]
  },
  {
   "cell_type": "code",
   "execution_count": 12,
   "metadata": {
    "collapsed": true
   },
   "outputs": [],
   "source": [
    "log_regr = LogisticRegression(solver='sag', n_jobs=1);\n",
    "#todo dump the array to a file?"
   ]
  },
  {
   "cell_type": "code",
   "execution_count": null,
   "metadata": {},
   "outputs": [],
   "source": [
    "#TODO\n",
    "# it can get lots of time to rain Neural Network\n",
    "log_regr.fit(images_train,labels_train);\n",
    "print (\"NN was trained\") #TODO measure time and other resource"
   ]
  },
  {
   "cell_type": "code",
   "execution_count": null,
   "metadata": {
    "collapsed": true
   },
   "outputs": [],
   "source": []
  }
 ],
 "metadata": {
  "kernelspec": {
   "display_name": "Python 3",
   "language": "python",
   "name": "python3"
  },
  "language_info": {
   "codemirror_mode": {
    "name": "ipython",
    "version": 3
   },
   "file_extension": ".py",
   "mimetype": "text/x-python",
   "name": "python",
   "nbconvert_exporter": "python",
   "pygments_lexer": "ipython3",
   "version": "3.6.3"
  }
 },
 "nbformat": 4,
 "nbformat_minor": 2
}
