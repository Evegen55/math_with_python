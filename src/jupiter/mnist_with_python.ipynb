{
 "cells": [
  {
   "cell_type": "code",
   "execution_count": 1,
   "metadata": {
    "collapsed": true
   },
   "outputs": [],
   "source": [
    "# Make sure you can import them before proceeding further.\n",
    "from __future__ import print_function\n",
    "import imageio\n",
    "import matplotlib.pyplot as plt\n",
    "import numpy as np\n",
    "import os\n",
    "import sys\n",
    "import tarfile\n",
    "import gzip\n",
    "import struct\n",
    "from IPython.display import display, Image\n",
    "from sklearn.linear_model import LogisticRegression\n",
    "from six.moves.urllib.request import urlretrieve\n",
    "from six.moves import cPickle as pickle\n",
    "\n",
    "# Config the matplotlib backend as plotting inline in IPython\n",
    "%matplotlib inline"
   ]
  },
  {
   "cell_type": "code",
   "execution_count": 2,
   "metadata": {
    "collapsed": true
   },
   "outputs": [],
   "source": [
    "#MNIST urls\n",
    "url_base = 'http://yann.lecun.com/exdb/mnist/'\n",
    "training_set_images = 'train-images-idx3-ubyte.gz' #size in bytes 9912422\n",
    "training_set_labels = 'train-labels-idx1-ubyte.gz' #size in bytes 28881\n",
    "test_set_images = 't10k-images-idx3-ubyte.gz' #size in bytes 1648877\n",
    "test_set_labels = 't10k-labels-idx1-ubyte.gz' #size in bytes 4542\n",
    "last_percent_reported = None\n",
    "# Change me to store data elsewhere\n",
    "data_root = 'D:\\\\10_work_spaces\\\\1_Under_VCS\\\\github\\\\4_NN_ML\\\\data_for_trainings'"
   ]
  },
  {
   "cell_type": "code",
   "execution_count": 3,
   "metadata": {
    "collapsed": true
   },
   "outputs": [],
   "source": [
    "\"\"\"A hook to report the progress of a download. This is mostly intended for users with\n",
    "   slow internet connections. Reports every 5% change in download progress.\n",
    "\"\"\"\n",
    "def download_progress_hook(count, blockSize, totalSize):  \n",
    "  global last_percent_reported\n",
    "  percent = int(count * blockSize * 100 / totalSize)\n",
    "  if last_percent_reported != percent:\n",
    "    if percent % 5 == 0:\n",
    "      sys.stdout.write(\"%s%%\" % percent)\n",
    "      sys.stdout.flush()\n",
    "    else:\n",
    "      sys.stdout.write(\".\")\n",
    "      sys.stdout.flush()\n",
    "      \n",
    "    last_percent_reported = percent"
   ]
  },
  {
   "cell_type": "code",
   "execution_count": 4,
   "metadata": {
    "collapsed": true
   },
   "outputs": [],
   "source": [
    "def maybe_download(filename, expected_bytes, force=False):\n",
    "  \"\"\"Download a file if not present, and make sure it's the right size.\"\"\"\n",
    "  dest_filename = os.path.join(data_root, filename)\n",
    "  if force or not os.path.exists(dest_filename):\n",
    "    print('Attempting to download:', filename) \n",
    "    filename, _ = urlretrieve(url_base + filename, dest_filename, reporthook=download_progress_hook)\n",
    "    print('\\nDownload Complete!')\n",
    "  statinfo = os.stat(dest_filename)\n",
    "  if statinfo.st_size == expected_bytes:\n",
    "    print('Found and verified', dest_filename)\n",
    "  else:\n",
    "    raise Exception(\n",
    "      'Failed to verify ' + dest_filename + '. Can you get to it with a browser?')\n",
    "  return dest_filename"
   ]
  },
  {
   "cell_type": "code",
   "execution_count": 5,
   "metadata": {},
   "outputs": [
    {
     "name": "stdout",
     "output_type": "stream",
     "text": [
      "Found and verified D:\\10_work_spaces\\1_Under_VCS\\github\\4_NN_ML\\data_for_trainings\\train-images-idx3-ubyte.gz\n",
      "Found and verified D:\\10_work_spaces\\1_Under_VCS\\github\\4_NN_ML\\data_for_trainings\\train-labels-idx1-ubyte.gz\n",
      "Found and verified D:\\10_work_spaces\\1_Under_VCS\\github\\4_NN_ML\\data_for_trainings\\t10k-images-idx3-ubyte.gz\n",
      "Found and verified D:\\10_work_spaces\\1_Under_VCS\\github\\4_NN_ML\\data_for_trainings\\t10k-labels-idx1-ubyte.gz\n"
     ]
    }
   ],
   "source": [
    "train_filename_images = maybe_download(training_set_images, 9912422)\n",
    "train_filename_labels = maybe_download(training_set_labels, 28881)\n",
    "test_filename_images = maybe_download(test_set_images, 1648877)\n",
    "test_filename_labels = maybe_download(test_set_labels, 4542)"
   ]
  },
  {
   "cell_type": "code",
   "execution_count": 6,
   "metadata": {},
   "outputs": [
    {
     "name": "stdout",
     "output_type": "stream",
     "text": [
      "2051 \t 60000 \t 28 \t 28\n"
     ]
    }
   ],
   "source": [
    "#it sets byte stream from IMAGES FOR TRAINING to a right position\n",
    "gzipFile_TrainImages = gzip.open(train_filename_images)\n",
    "magicNumberImages = int.from_bytes(gzipFile_TrainImages.read(4), byteorder='big') #2051\n",
    "numberOfImages = int.from_bytes(gzipFile_TrainImages.read(4), byteorder='big') #60000\n",
    "numberOfRows = int.from_bytes(gzipFile_TrainImages.read(4), byteorder='big') #28\n",
    "numberOfColumns = int.from_bytes(gzipFile_TrainImages.read(4), byteorder='big') #28\n",
    "print (magicNumberImages, '\\t',numberOfImages, '\\t', numberOfRows, '\\t', numberOfColumns)"
   ]
  },
  {
   "cell_type": "code",
   "execution_count": 7,
   "metadata": {},
   "outputs": [
    {
     "name": "stdout",
     "output_type": "stream",
     "text": [
      "2049 \t 60000\n"
     ]
    }
   ],
   "source": [
    "#it sets byte stream from LABELS FOR TRAINING to a right position\n",
    "gzipFile_TrainLabels = gzip.open(train_filename_labels)\n",
    "magicNumberLabels = int.from_bytes(gzipFile_TrainLabels.read(4), byteorder='big') #2049\n",
    "numberOfLabels = int.from_bytes(gzipFile_TrainLabels.read(4), byteorder='big') #60000\n",
    "print (magicNumberLabels, '\\t',numberOfLabels)"
   ]
  },
  {
   "cell_type": "code",
   "execution_count": 8,
   "metadata": {
    "collapsed": true
   },
   "outputs": [],
   "source": [
    "#TODO - it doesn't work check it!\n",
    "NUMBER_FEATURES = 784; #square 28*28 as from data set -> array 784 items\n",
    "#it creates n-dim array with picture as 784 features and an appropriate label\n",
    "datasetMnist = np.ndarray(shape=(numberOfLabels, NUMBER_FEATURES), dtype=np.int32) #it creates a 2d array of 32-bit integers\n",
    "def read_single_image_with_label():\n",
    "    #read and create array with 784 features\n",
    "    imagePixelsAsFeatures = np.ndarray(shape=(NUMBER_FEATURES), dtype=np.int32)\n",
    "    for index in range(NUMBER_FEATURES):\n",
    "        imagePixelsAsFeatures[index] = int.from_bytes(gzipFile_TrainImages.read(1), byteorder='big')\n",
    "    #read label    \n",
    "    label = 0\n",
    "    label = int.from_bytes(gzipFile_TrainLabels.read(1), byteorder='big')\n",
    "    # put label and features to a dataset\n",
    "    datasetMnist[label, :] = imagePixelsAsFeatures    \n",
    "    #print (label, '\\n', imagePixelsAsFeatures)"
   ]
  },
  {
   "cell_type": "code",
   "execution_count": 9,
   "metadata": {},
   "outputs": [
    {
     "name": "stdout",
     "output_type": "stream",
     "text": [
      "(60000, 784)\n"
     ]
    }
   ],
   "source": [
    "#x = struct.unpack('f', b'\\xdb\\x0fI@')\n",
    "#print (x[0])\n",
    "for i in range(numberOfLabels):\n",
    "    read_single_image_with_label()\n",
    "    \n",
    "print (datasetMnist.shape)"
   ]
  },
  {
   "cell_type": "code",
   "execution_count": 12,
   "metadata": {},
   "outputs": [
    {
     "name": "stdout",
     "output_type": "stream",
     "text": [
      "[0 0 0 0 0 0 0 0 0 0 0 0 0 0 0 0 0 0 0 0 0 0 0 0 0 0 0 0 0 0 0 0 0 0 0 0 0\n",
      " 0 0 0 0 0 0 0 0 0 0 0 0 0 0 0 0 0 0 0 0 0 0 0 0 0 0 0 0 0 0 0 0 0 0 0 0 0\n",
      " 0 0 0 0 0 0 0 0 0 0 0 0 0 0 0 0 0 0 0 0 0 0 0 0 0 0 0 0 0 0 0 0 0 0 0 0 0\n",
      " 0 0 0 0 0 0 0 0 0 0 0 0 0 0 0 0 0 0 0 0 0 0 0 0 0 0 0 0 0 0 0 0 0 0 0 0 0\n",
      " 0 0 0 0 0 0 0 0 0 0 0 0 0 0 0 0 0 0 0 0 0 0 0 0 0 0 0 0 0 0 0 0 0 0 0 0 0\n",
      " 0 0 0 0 0 0 0 0 0 0 0 0 0 0 0 0 0 0 0 0 0 0 0 0 0 0 0 0 0 0 0 0 0 0 0 0 0\n",
      " 0 0 0 0 0 0 0 0 0 0 0 0 0 0 0 0 0 0 0 0 0 0 0 0 0 0 0 0 0 0 0 0 0 0 0 0 0\n",
      " 0 0 0 0 0 0 0 0 0 0 0 0 0 0 0 0 0 0 0 0 0 0 0 0 0 0 0 0 0 0 0 0 0 0 0 0 0\n",
      " 0 0 0 0 0 0 0 0 0 0 0 0 0 0 0 0 0 0 0 0 0 0 0 0 0 0 0 0 0 0 0 0 0 0 0 0 0\n",
      " 0 0 0 0 0 0 0 0 0 0 0 0 0 0 0 0 0 0 0 0 0 0 0 0 0 0 0 0 0 0 0 0 0 0 0 0 0\n",
      " 0 0 0 0 0 0 0 0 0 0 0 0 0 0 0 0 0 0 0 0 0 0 0 0 0 0 0 0 0 0 0 0 0 0 0 0 0\n",
      " 0 0 0 0 0 0 0 0 0 0 0 0 0 0 0 0 0 0 0 0 0 0 0 0 0 0 0 0 0 0 0 0 0 0 0 0 0\n",
      " 0 0 0 0 0 0 0 0 0 0 0 0 0 0 0 0 0 0 0 0 0 0 0 0 0 0 0 0 0 0 0 0 0 0 0 0 0\n",
      " 0 0 0 0 0 0 0 0 0 0 0 0 0 0 0 0 0 0 0 0 0 0 0 0 0 0 0 0 0 0 0 0 0 0 0 0 0\n",
      " 0 0 0 0 0 0 0 0 0 0 0 0 0 0 0 0 0 0 0 0 0 0 0 0 0 0 0 0 0 0 0 0 0 0 0 0 0\n",
      " 0 0 0 0 0 0 0 0 0 0 0 0 0 0 0 0 0 0 0 0 0 0 0 0 0 0 0 0 0 0 0 0 0 0 0 0 0\n",
      " 0 0 0 0 0 0 0 0 0 0 0 0 0 0 0 0 0 0 0 0 0 0 0 0 0 0 0 0 0 0 0 0 0 0 0 0 0\n",
      " 0 0 0 0 0 0 0 0 0 0 0 0 0 0 0 0 0 0 0 0 0 0 0 0 0 0 0 0 0 0 0 0 0 0 0 0 0\n",
      " 0 0 0 0 0 0 0 0 0 0 0 0 0 0 0 0 0 0 0 0 0 0 0 0 0 0 0 0 0 0 0 0 0 0 0 0 0\n",
      " 0 0 0 0 0 0 0 0 0 0 0 0 0 0 0 0 0 0 0 0 0 0 0 0 0 0 0 0 0 0 0 0 0 0 0 0 0\n",
      " 0 0 0 0 0 0 0 0 0 0 0 0 0 0 0 0 0 0 0 0 0 0 0 0 0 0 0 0 0 0 0 0 0 0 0 0 0\n",
      " 0 0 0 0 0 0 0]\n"
     ]
    }
   ],
   "source": [
    "print (datasetMnist[12000])"
   ]
  },
  {
   "cell_type": "code",
   "execution_count": null,
   "metadata": {
    "collapsed": true
   },
   "outputs": [],
   "source": [
    "#todo dump the array to a file?"
   ]
  },
  {
   "cell_type": "code",
   "execution_count": null,
   "metadata": {
    "collapsed": true
   },
   "outputs": [],
   "source": []
  }
 ],
 "metadata": {
  "kernelspec": {
   "display_name": "Python 3",
   "language": "python",
   "name": "python3"
  },
  "language_info": {
   "codemirror_mode": {
    "name": "ipython",
    "version": 3
   },
   "file_extension": ".py",
   "mimetype": "text/x-python",
   "name": "python",
   "nbconvert_exporter": "python",
   "pygments_lexer": "ipython3",
   "version": "3.6.3"
  }
 },
 "nbformat": 4,
 "nbformat_minor": 2
}
